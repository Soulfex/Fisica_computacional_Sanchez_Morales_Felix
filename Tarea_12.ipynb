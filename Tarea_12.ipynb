{
 "cells": [
  {
   "cell_type": "markdown",
   "metadata": {},
   "source": [
    "## Tarea 12                   "
   ]
  },
  {
   "cell_type": "markdown",
   "metadata": {},
   "source": [
    "El método implicito es:\n",
    "$$x_{n+1}=x_n+f(x_{n+1},t_{n+1})h,$$\n",
    "Observen que en cada paso hay que resolver una ecuación algebraica, por ej, para el primer paso $x_1=x_0+f(x_1,t_1)h$\n",
    "tenemos que despejar $x_1$. Una forma es utilizar el método de Newton que ya desarrollaron, es decir, si tomamos $g(x)=x-f(x,t_1)h$, el método nos dice que:\n",
    "$$\\tilde x_{k+1}=x_k-\\frac{g(x_k)}{g'(\\tilde x_k)}.$$\n",
    "Para asegurar que $\\tilde x_k$ converge a $x_1$ (puesto que en general $g(x)$ tiene muchas raices), tenemos que tomar $\\tilde x_0$ lo mas cerca posible de $x_1$, lo más prudente es tomar $\\tilde x_0=x_0$. Por lo tanto, para cualquier paso tenemos que si conocemos $x_n$, entonces $x_{n+1}$ esta dado por el límite \n",
    "\n",
    "$$x_{n+1}=\\lim_{k\\to \\infty}\\tilde x_k,$$\n",
    "donde $\\tilde x_{k+1}=x_k-\\frac{g(x_k)}{g'(\\tilde x_k)}$, con $g(x)=x_n-f(x,t_n)$.\n",
    "\n",
    "Otra forma de encontrar $x_{n+1}$ sin tener necesidad de calcular la derivada explicitamente, es modificar el método de Newton usando una derivada númerica. Otra forma es utilizar el método de punto fijo.\n",
    "\n",
    "En la teoría de sistemas dinámicos discretos, donde estos se definen como:\n",
    "$$x_{n+1}=F(x_n),$$\n",
    "Obsérvese que el método de Newton y el método de Euler tienen esta forma.\n",
    "\n",
    "Cuándo $x_n$ converge a alguna parte en el límite de $n\\to\\infty$, se dice que existe un _punto fijo estable_ y que la condición inicial del nuestro sistema dinámico esta en la _cuenca de atracción_ de dicho _punto fijo estable_ (también conocido como atractor, y sí, existen los repulsores). \n",
    "Los puntos fijos, $x^*$, cumplen:\n",
    "$$x^*=f(x^*),$$\n",
    "por eso se les dice _fijos_, si el sistema comienza en uno de ellos, la suceción es constante.\n",
    "Entonces, para resolver la ecuación algebraica presente en el método de Euler, podemos hacer las siguientes identificaciones:\n",
    "\n",
    "$$x_{n+1}\\to x^*\\text{ ,y}$$\n",
    "$$x_n+f(x,t_{n+1})h\\to F(x).$$\n",
    "Es decir, $x_{n+1}$ (con $x_n$ obviamente conocido) es un punto fijo del sistema dinámico:\n",
    "$$ x_{n+1}^{[k+1]}=x_n+f(x_{n+1}^{[k]},t_{n+1})h,$$\n",
    "nuevamente es prudente utilizar $x_{n+1}^{[0]}=x_n$."
   ]
  },
  {
   "cell_type": "markdown",
   "metadata": {},
   "source": [
    "__Ejercicio 1:__ Implementar método implicito de Euler como quieran."
   ]
  },
  {
   "cell_type": "code",
   "execution_count": 1,
   "metadata": {},
   "outputs": [
    {
     "data": {
      "text/plain": [
       "Newton_ultimate (generic function with 1 method)"
      ]
     },
     "execution_count": 1,
     "metadata": {},
     "output_type": "execute_result"
    }
   ],
   "source": [
    "#Para el método de Euler implicito necesitaremos el metodo de Newton así que lo vamos a definir \n",
    "\n",
    "using SymPy\n",
    "A,x,a,n,m=symbols(\"A,x,a,n,m\") # Definimos las variables simbolicas que se ocupan\n",
    "\n",
    "\n",
    "function Newton_ultimate(f::Function,x0::Float64)\n",
    "    df = simplify(diff(f),[x])\n",
    "    d = lambdify(df,[x])\n",
    "    eps=200\n",
    "    \n",
    "    for i in 1:eps\n",
    "    \n",
    "        x0= x0-(f(x0)/d(x0))\n",
    "   \n",
    "    end\n",
    "  \n",
    "    return x0\n",
    "  \n",
    "end\n",
    "\n",
    "\n",
    "\n"
   ]
  },
  {
   "cell_type": "code",
   "execution_count": 2,
   "metadata": {},
   "outputs": [
    {
     "data": {
      "text/plain": [
       "g (generic function with 1 method)"
      ]
     },
     "execution_count": 2,
     "metadata": {},
     "output_type": "execute_result"
    }
   ],
   "source": [
    "\n",
    "    "
   ]
  },
  {
   "cell_type": "code",
   "execution_count": 29,
   "metadata": {},
   "outputs": [
    {
     "data": {
      "text/plain": [
       "metodo_euler_implicit (generic function with 1 method)"
      ]
     },
     "execution_count": 29,
     "metadata": {},
     "output_type": "execute_result"
    }
   ],
   "source": [
    "function metodo_euler_implicit(f::Function,t0::Float64,tf::Float64,x0::Float64,h::Float64) # ahora hacemos la funcion de Euler implicito\n",
    "    x = x0 # igualamos x a x0\n",
    "    lista_x = [] # Definimos un arreglo donde se iran guardando los datos\n",
    "    push!(lista_x,x) #llenamos nuestro arreglo con las x\n",
    "    lista_t = linspace(t0,tf,(tf-t0)/h+1) # con esto se crea  intervalos\n",
    "    \n",
    "    for i in 2:length(lista_t)  # con este ciclo for se implementara nuestra formula\n",
    "        t = i*h\n",
    "        g(x)= x - lista_x[i-1] - h*f(x,lista_t[i])\n",
    "        x2 = Newton_ultimate(g,lista_t[length(lista_t)])\n",
    "        push!(lista_x,x2)\n",
    "    end\n",
    "  \n",
    "    \n",
    "    \n",
    "    return lista_x,lista_t\n",
    "end"
   ]
  },
  {
   "cell_type": "code",
   "execution_count": 30,
   "metadata": {},
   "outputs": [
    {
     "data": {
      "text/plain": [
       "f (generic function with 1 method)"
      ]
     },
     "execution_count": 30,
     "metadata": {},
     "output_type": "execute_result"
    }
   ],
   "source": [
    "function f(x,t)\n",
    "    -(2.5)*x\n",
    "end"
   ]
  },
  {
   "cell_type": "code",
   "execution_count": null,
   "metadata": {},
   "outputs": [],
   "source": []
  },
  {
   "cell_type": "markdown",
   "metadata": {},
   "source": [
    "__Ejercicio 2:__ Implementar Euler: Regla del punto medio.\n"
   ]
  },
  {
   "cell_type": "code",
   "execution_count": 63,
   "metadata": {},
   "outputs": [
    {
     "data": {
      "text/plain": [
       "euler_puntoM (generic function with 1 method)"
      ]
     },
     "execution_count": 63,
     "metadata": {},
     "output_type": "execute_result"
    }
   ],
   "source": [
    "using PyPlot\n",
    "#Aqui practicamente es lo mismo que Euler, entonces comenzamos definiendo una funcion \n",
    "function euler_puntoM(f::Function,x0,t0,tf,h)\n",
    "    x = x0 # igualamos x a x0\n",
    "    lista_x = [] # Definimos un arreglo donde se iran guardando los datos\n",
    "    push!(lista_x,x) #llenamos nuestro arreglo con las x\n",
    "    lista_t = linspace(t0,tf,(tf-t0)/h+1) # con esto se crea un intervalo\n",
    "    \n",
    "    for i in 2:length(lista_t)  # con este ciclo for se implementara nuestra formula\n",
    "        t = i*h\n",
    "        x = x+f(x,t)*h/2\n",
    "        push!(lista_x,x)\n",
    "    end\n",
    "    \n",
    "  #plot(lista_x,lista_t)  \n",
    "    return lista_x,lista_t\n",
    "end"
   ]
  },
  {
   "cell_type": "markdown",
   "metadata": {},
   "source": [
    "__Ejercicio 3:__ Implementar método de Runge-Kutta de orden 4."
   ]
  },
  {
   "cell_type": "code",
   "execution_count": 7,
   "metadata": {},
   "outputs": [
    {
     "data": {
      "text/plain": [
       "k1 (generic function with 1 method)"
      ]
     },
     "execution_count": 7,
     "metadata": {},
     "output_type": "execute_result"
    }
   ],
   "source": [
    "function k1(t,w) # Definimos una funcion para obtener K1\n",
    "    \n",
    "    return f(t,w)\n",
    "    \n",
    "end\n"
   ]
  },
  {
   "cell_type": "code",
   "execution_count": 8,
   "metadata": {},
   "outputs": [
    {
     "data": {
      "text/plain": [
       "k2 (generic function with 1 method)"
      ]
     },
     "execution_count": 8,
     "metadata": {},
     "output_type": "execute_result"
    }
   ],
   "source": [
    "function k2(t,w)\n",
    "    return f(t+h/2,w+(h/2)*f(t,w))\n",
    "end\n"
   ]
  },
  {
   "cell_type": "code",
   "execution_count": 9,
   "metadata": {},
   "outputs": [
    {
     "data": {
      "text/plain": [
       "k3 (generic function with 1 method)"
      ]
     },
     "execution_count": 9,
     "metadata": {},
     "output_type": "execute_result"
    }
   ],
   "source": [
    "function k3(t,w)\n",
    "    return f(t+h/2,w+(h/2)*f(t+h/2,w+(h/2)*f(t,w)))\n",
    "end"
   ]
  },
  {
   "cell_type": "code",
   "execution_count": 10,
   "metadata": {},
   "outputs": [
    {
     "data": {
      "text/plain": [
       "k4 (generic function with 1 method)"
      ]
     },
     "execution_count": 10,
     "metadata": {},
     "output_type": "execute_result"
    }
   ],
   "source": [
    "function k4(t,w)\n",
    "    return f(t+h,w+h*f(t+h/2,w+(h/2)*f(t+h/2,w+(h/2)*f(t,w))))\n",
    "end"
   ]
  },
  {
   "cell_type": "code",
   "execution_count": 11,
   "metadata": {},
   "outputs": [
    {
     "data": {
      "text/plain": [
       "f (generic function with 1 method)"
      ]
     },
     "execution_count": 11,
     "metadata": {},
     "output_type": "execute_result"
    }
   ],
   "source": [
    "function f(t,w)\n",
    "    return w-(1/2)*exp(t/2)*sin(5t) + 5exp(t/2)*cos(5t) #Utilizamos esta ecuación para probar nuestro método\n",
    "end"
   ]
  },
  {
   "cell_type": "code",
   "execution_count": 12,
   "metadata": {},
   "outputs": [
    {
     "data": {
      "text/plain": [
       "RungaKutta (generic function with 1 method)"
      ]
     },
     "execution_count": 12,
     "metadata": {},
     "output_type": "execute_result"
    }
   ],
   "source": [
    "function RungaKutta(f::Function,t0,N,h) \n",
    "t = zeros(1,N)\n",
    "W = zeros(1,N)\n",
    "w = zeros(1,N)\n",
    "t[1] = t0\n",
    "W[1] = 0\n",
    "    for k in 1:N-1\n",
    "        t[k+1] = t[k] + h\n",
    "        W[k+1]=W[k]+(h/6)*(f(t[k],w[k])+2(f(t[k]+h/2,w[k]+(h/2)*f(t[k],w[k])))+(f(t[k]+h/2,w[k]+(h/2)*f(t[k]+h/2,w[k]+(h/2)*f(t[k],w[k]))))+(f(t[k]+h,w[k]+h*f(t[k]+h/2,w[k]+(h/2)*f(t[k]+h/2,w[k]+(h/2)*f(t[k],w[k]))))))\n",
    "        println(t[k], \" \", W[k])\n",
    "    end\n",
    "    (t,W)\n",
    "end"
   ]
  },
  {
   "cell_type": "code",
   "execution_count": 15,
   "metadata": {},
   "outputs": [
    {
     "name": "stdout",
     "output_type": "stream",
     "text": [
      "0.0 0.0\n",
      "0.05 0.21127230190371052\n",
      "0.1 0.40894581113246775\n",
      "0.15000000000000002 0.5795951086811243\n",
      "0.2 0.7108465281366969\n",
      "0.25 0.792228820362905\n",
      "0.3 0.8159449360786987\n",
      "0.35 0.7775111868912294\n",
      "0.39999999999999997 0.6762158295628594\n",
      "0.44999999999999996 0.515358286910059\n",
      "0.49999999999999994 0.3022423549040739\n",
      "0.5499999999999999 0.04791121997087855\n",
      "0.6 -0.23337188895205851\n",
      "0.65 -0.524877014381606\n",
      "0.7000000000000001 -0.8083582400980707\n",
      "0.7500000000000001 -1.0651508205228273\n",
      "0.8000000000000002 -1.2773515295375133\n",
      "0.8500000000000002 -1.429010492855816\n",
      "0.9000000000000002 -1.5072583506554467\n",
      "0.9500000000000003 -1.5032928567985742\n",
      "1.0000000000000002 -1.4131541806929893\n",
      "1.0500000000000003 -1.2382281566726847\n",
      "1.1000000000000003 -0.9854311282495971\n",
      "1.1500000000000004 -0.6670481601381457\n",
      "1.2000000000000004 -0.30021726336330595\n",
      "1.2500000000000004 0.09392530510831404\n",
      "1.3000000000000005 0.4914010111525496\n",
      "1.3500000000000005 0.8667872942379353\n",
      "1.4000000000000006 1.1947804888614577\n",
      "1.4500000000000006 1.4518312230309502\n",
      "1.5000000000000007 1.6177507064904952\n",
      "1.5500000000000007 1.6771829873017294\n",
      "1.6000000000000008 1.6208415062547508\n",
      "1.6500000000000008 1.4464182426818333\n",
      "1.7000000000000008 1.1590901251922707\n",
      "1.7500000000000009 0.7715694508804571\n",
      "1.800000000000001 0.3036716873297079\n",
      "1.850000000000001 -0.218596257679529\n",
      "1.900000000000001 -0.7643931786051847\n",
      "1.950000000000001 -1.2997815771127352\n",
      "2.000000000000001 -1.7897541467064257\n",
      "2.0500000000000007 -2.200433042379163\n",
      "2.1000000000000005 -2.5013091832219794\n",
      "2.1500000000000004 -2.6673794518687477\n",
      "2.2 -2.6810389415979885\n",
      "2.25 -2.5335938503569526\n",
      "2.3 -2.226278156638533\n",
      "2.3499999999999996 -1.7706831718196412\n",
      "2.3999999999999995 -1.1885422076255332\n",
      "2.4499999999999993 -0.510851160023981\n",
      "2.499999999999999 0.2236524131549087\n",
      "2.549999999999999 0.9705866794362972\n",
      "2.5999999999999988 1.6824938890115655\n",
      "2.6499999999999986 2.3117384728108186\n",
      "2.6999999999999984 2.8135651790202676\n",
      "2.7499999999999982 3.149128540031168\n",
      "2.799999999999998 3.288297132573277\n",
      "2.849999999999998 3.212040518168809\n",
      "2.8999999999999977 2.914223772412958\n",
      "2.9499999999999975 2.4026636797998786\n",
      "2.9999999999999973 1.6993407305097454\n",
      "3.049999999999997 0.8397099857282557\n",
      "3.099999999999997 -0.12889101712904416\n",
      "3.149999999999997 -1.1496811000853548\n",
      "3.1999999999999966 -2.1596073979096397\n",
      "3.2499999999999964 -3.0930837747860895\n",
      "3.2999999999999963 -3.886084030956063\n",
      "3.349999999999996 -4.4803445282952925\n",
      "3.399999999999996 -4.827411237863605\n",
      "3.4499999999999957 -4.892262643446201\n",
      "3.4999999999999956 -4.656253476058984\n",
      "3.5499999999999954 -4.119154910660622\n",
      "3.599999999999995 -3.300113531465474\n",
      "3.649999999999995 -2.2374118821774394\n",
      "3.699999999999995 -0.9869845752562143\n",
      "3.7499999999999947 0.38027829593699813\n",
      "3.7999999999999945 1.782328985177849\n",
      "3.8499999999999943 3.1306730813082035\n",
      "3.899999999999994 4.335737134330297\n",
      "3.949999999999994 5.312580964868737\n",
      "3.999999999999994 5.986604513782601\n",
      "4.049999999999994 6.298881488042811\n",
      "4.099999999999993 6.210757234940217\n",
      "4.149999999999993 5.70737706375982\n",
      "4.199999999999993 4.799862989215774\n",
      "4.249999999999993 3.525929439275187\n",
      "4.299999999999993 1.9488182459468069\n",
      "4.3499999999999925 0.154535322755055\n",
      "4.399999999999992 -1.7525201151944\n",
      "4.449999999999992 -3.655334770213445\n",
      "4.499999999999992 -5.431169008493788\n",
      "4.549999999999992 -6.959166467570141\n",
      "4.599999999999992 -8.128232552890331\n",
      "4.6499999999999915 -8.844688313467639\n",
      "4.699999999999991 -9.039195347127729\n",
      "4.749999999999991 -8.67246846570375\n",
      "4.799999999999991 -7.739346128885538\n",
      "4.849999999999991 -6.270872352552915\n",
      "4.899999999999991 -4.334154083666539\n"
     ]
    },
    {
     "data": {
      "text/plain": [
       "([0.0 0.05 … 4.9 4.95], [0.0 0.211272 … -4.33415 -2.02989])"
      ]
     },
     "execution_count": 15,
     "metadata": {},
     "output_type": "execute_result"
    }
   ],
   "source": [
    "(t,W)=RungaKutta(f,0,100,0.05) \n"
   ]
  },
  {
   "cell_type": "code",
   "execution_count": 18,
   "metadata": {},
   "outputs": [
    {
     "data": {
      "image/png": "[encoded data removed]",
      "text/plain": [
       "PyPlot.Figure(PyObject <matplotlib.figure.Figure object at 0x7f42b0c0ca50>)"
      ]
     },
     "metadata": {},
     "output_type": "display_data"
    },
    {
     "data": {
      "text/plain": [
       "PyObject <matplotlib.collections.PathCollection object at 0x7f42b0bb3990>"
      ]
     },
     "execution_count": 18,
     "metadata": {},
     "output_type": "execute_result"
    }
   ],
   "source": [
    "using PyPlot\n",
    "title(\"Runge Kutta 4\")\n",
    "scatter(t,W,)"
   ]
  },
  {
   "cell_type": "markdown",
   "metadata": {
    "collapsed": true
   },
   "source": [
    "__Ejercicio 5:__ Repita el ejercicio 1 del notebook anterior (Julia_6) y discuta los resultados respecto a lo que obtuvo con el método implícito."
   ]
  },
  {
   "cell_type": "code",
   "execution_count": 19,
   "metadata": {},
   "outputs": [
    {
     "data": {
      "text/plain": [
       "metodo_euler (generic function with 1 method)"
      ]
     },
     "execution_count": 19,
     "metadata": {},
     "output_type": "execute_result"
    }
   ],
   "source": [
    "# copiamos la tarea 11 para comenzar a comparar con el metodo implicito\n",
    "function metodo_euler(f::Function,x0::Int64,t0,tf,h) #comenzamos haciendo la función\n",
    "    x = x0 # igualamos x a x0\n",
    "    lista_x = [] # Definimos un arreglo donde se iran guardando los datos\n",
    "    push!(lista_x,x) #llenamos nuestro arreglo con las x\n",
    "    lista_t = linspace(t0,tf,(tf-t0)/h+1) # con esto se crea un intervalo\n",
    "    \n",
    "    for i in 2:length(lista_t)  # con este ciclo for se implementara nuestra formula\n",
    "        t = i*h\n",
    "        x = x+f(x,t)*h\n",
    "        push!(lista_x,x)\n",
    "    end\n",
    "    \n",
    "    \n",
    "    return lista_x,lista_t\n",
    "end"
   ]
  },
  {
   "cell_type": "code",
   "execution_count": 20,
   "metadata": {},
   "outputs": [
    {
     "data": {
      "text/plain": [
       "(Any[1, -1.5, 2.25, -3.375, 5.0625, -7.59375, 11.3906, -17.0859, 25.6289], 0.0:1.0:8.0)"
      ]
     },
     "execution_count": 20,
     "metadata": {},
     "output_type": "execute_result"
    }
   ],
   "source": [
    "metodo_euler((x,t)->-(2.5)*x,1,0,8,1) # Veamos si nuestra función funciona"
   ]
  },
  {
   "cell_type": "code",
   "execution_count": 21,
   "metadata": {},
   "outputs": [
    {
     "data": {
      "text/plain": [
       "q (generic function with 1 method)"
      ]
     },
     "execution_count": 21,
     "metadata": {},
     "output_type": "execute_result"
    }
   ],
   "source": [
    "# tenemos que la solucion de nuestra ecuación  diferencial es la siguiente\n",
    "\n",
    "function q(x,t)\n",
    "    exp.(-5t/2)\n",
    "end"
   ]
  },
  {
   "cell_type": "code",
   "execution_count": 35,
   "metadata": {},
   "outputs": [
    {
     "data": {
      "image/png": "[encoded data removed]",
      "text/plain": [
       "PyPlot.Figure(PyObject <matplotlib.figure.Figure object at 0x7f42b0b97910>)"
      ]
     },
     "metadata": {},
     "output_type": "display_data"
    },
    {
     "data": {
      "text/plain": [
       "PyObject <matplotlib.legend.Legend object at 0x7f42b0dfd110>"
      ]
     },
     "execution_count": 35,
     "metadata": {},
     "output_type": "execute_result"
    }
   ],
   "source": [
    "\n",
    "\n",
    "#Llego la hora de graficar \n",
    "using PyPlot\n",
    "xlabel(\"t\")\n",
    "ylabel(\"x(t)\")\n",
    "title(\"Método de Euler\") \n",
    "t=linspace(0,8,1000)\n",
    "plot(t,q(1,t),label= \"Solucion\", color= \"yellow\")\n",
    "legend()\n",
    "plot(metodo_euler((x,t)->-(2.5)*x,1,0,8,0.5)[2],metodo_euler((x,t)->-(2.5)*x,1,0,8,0.5)[1],label= \"aprox x(0)=1,h=0.5\",\"--\",color=\"green\")\n",
    "legend()\n",
    "plot(metodo_euler((x,t)->-(2.5)*x,1,0,8,0.2)[2],metodo_euler((x,t)->-(2.5)*x,1,0,8,0.2)[1],label= \"aprox x(0)=1,h=0.2\",\".\",color=\"blue\")\n",
    "legend()\n",
    "plot(metodo_euler((x,t)->-(2.5)*x,1,0,8,0.01)[2],metodo_euler((x,t)->-(2.5)*x,1,0,8,0.01)[1],label= \"aprox x(0)=1,h=0.01\",\".\",color=\"red\")\n",
    "legend()\n",
    "\n",
    "plot(metodo_euler_implicit((x,t)->-(2.5)*x,0.0,8.0,1.0,0.01)[2],metodo_euler_implicit((x,t)->-(2.5)*x,0.0,8.0,1.0,0.01)[1],label=\"Euler implicito\")\n",
    "legend()"
   ]
  },
  {
   "cell_type": "code",
   "execution_count": 36,
   "metadata": {},
   "outputs": [
    {
     "data": {
      "image/png": "[encoded data removed]",
      "text/plain": [
       "PyPlot.Figure(PyObject <matplotlib.figure.Figure object at 0x7f42b0b16150>)"
      ]
     },
     "metadata": {},
     "output_type": "display_data"
    },
    {
     "data": {
      "text/plain": [
       "PyObject <matplotlib.legend.Legend object at 0x7f42b062ef50>"
      ]
     },
     "execution_count": 36,
     "metadata": {},
     "output_type": "execute_result"
    }
   ],
   "source": [
    "xlabel(\"t\")\n",
    "ylabel(\"x(t)\")\n",
    "title(\"Método de Euler\") \n",
    "t=linspace(0,8,1000)\n",
    "plot(t,q(1,t),label= \"Solucion\", color= \"yellow\")\n",
    "plot(metodo_euler((x,t)->-(2.5)*x,2,0,8,0.5)[2],metodo_euler((x,t)->-(2.5)*x,2,0,8,0.5)[1],label= \"aprox x(0)=2,h=0.5\",\"--\",color=\"green\")\n",
    "legend()\n",
    "plot(metodo_euler((x,t)->-(2.5)*x,2,0,8,0.2)[2],metodo_euler((x,t)->-(2.5)*x,2,0,8,0.2)[1],label= \"aprox x(0)=2,h=0.2\",\".\",color=\"blue\")\n",
    "legend()\n",
    "plot(metodo_euler((x,t)->-(2.5)*x,2,0,8,0.01)[2],metodo_euler((x,t)->-(2.5)*x,2,0,8,0.01)[1],label= \"aprox x(0)=2,h=0.01\",\".\",color=\"red\")\n",
    "legend()\n",
    "plot(metodo_euler_implicit((x,t)->-(2.5)*x,0.0,8.0,2.0,0.01)[2],metodo_euler_implicit((x,t)->-(2.5)*x,0.0,8.0,2.0,0.01)[1],label=\"Euler implicito\")\n",
    "legend()"
   ]
  },
  {
   "cell_type": "markdown",
   "metadata": {
    "collapsed": true
   },
   "source": [
    "__Ejercicio 5__: Usar el método del punto medio y de Runge-Kutta para resolver la ecuación:\n",
    "$$\\frac{dx}{dt}=\\frac{2x-18 t}{1+t}.$$\n",
    "Compare su respuesta con la solución exacta: $4+8t-5t^2$. notén que $x(0)=4$. __Nota: Este es el test para el de Runge-Kutta.__"
   ]
  },
  {
   "cell_type": "code",
   "execution_count": 54,
   "metadata": {},
   "outputs": [
    {
     "data": {
      "text/plain": [
       "g (generic function with 1 method)"
      ]
     },
     "execution_count": 54,
     "metadata": {},
     "output_type": "execute_result"
    }
   ],
   "source": [
    "function g(t,w)    \n",
    "    (2w-18t)/(1+t)\n",
    "end"
   ]
  },
  {
   "cell_type": "code",
   "execution_count": 44,
   "metadata": {},
   "outputs": [
    {
     "name": "stdout",
     "output_type": "stream",
     "text": [
      "0.0 0.0\n",
      "0.05 -0.018662360839636273\n",
      "0.1 -0.07300061317680695\n",
      "0.15000000000000002 -0.15969802204812886\n",
      "0.2 -0.2758796013580665\n",
      "0.25 -0.41903703576039886\n",
      "0.3 -0.5869688962874151\n",
      "0.35 -0.7777325588737904\n",
      "0.39999999999999997 -0.9896051812009582\n",
      "0.44999999999999996 -1.2210517649925605\n",
      "0.49999999999999994 -1.4706988144928033\n",
      "0.5499999999999999 -1.7373124545999545\n",
      "0.6 -2.0197801325313423\n",
      "0.65 -2.3170952212887386\n",
      "0.7000000000000001 -2.628343989817394\n",
      "0.7500000000000001 -2.952694516417448\n",
      "0.8000000000000002 -3.289387207776872\n",
      "0.8500000000000002 -3.6377266524946243\n",
      "0.9000000000000002 -3.99707458990572\n",
      "0.9500000000000003 -4.366843815895042\n",
      "1.0000000000000002 -4.746492879777802\n",
      "1.0500000000000003 -5.1355214521622905\n",
      "1.1000000000000003 -5.533466264449515\n",
      "1.1500000000000004 -5.93989753736908\n",
      "1.2000000000000004 -6.354415829546167\n",
      "1.2500000000000004 -6.776649248191655\n",
      "1.3000000000000005 -7.206250973111105\n",
      "1.3500000000000005 -7.64289705273253\n",
      "1.4000000000000006 -8.086284437066826\n",
      "1.4500000000000006 -8.536129217682866\n",
      "1.5000000000000007 -8.992165049095322\n",
      "1.5500000000000007 -9.45414172958224\n",
      "1.6000000000000008 -9.921823922495369\n",
      "1.6500000000000008 -10.394990001699185\n",
      "1.7000000000000008 -10.873431006955748\n",
      "1.7500000000000009 -11.356949696927598\n",
      "1.800000000000001 -11.845359689053806\n",
      "1.850000000000001 -12.338484676909145\n",
      "1.900000000000001 -12.836157716819395\n",
      "1.950000000000001 -13.338220576507126\n",
      "2.000000000000001 -13.844523139406663\n",
      "2.0500000000000007 -14.354922859035238\n",
      "2.1000000000000005 -14.869284258456586\n",
      "2.1500000000000004 -15.387478470438154\n",
      "2.2 -15.909382814395652\n",
      "2.25 -16.43488040664926\n",
      "2.3 -16.963859800892916\n",
      "2.3499999999999996 -17.496214656109224\n",
      "2.3999999999999995 -18.03184342945383\n",
      "2.4499999999999993 -18.570649091889806\n",
      "2.499999999999999 -19.112538864579452\n",
      "2.549999999999999 -19.6574239742415\n",
      "2.5999999999999988 -20.205219425859713\n",
      "2.6499999999999986 -20.755843791286825\n",
      "2.6999999999999984 -21.30921901242833\n",
      "2.7499999999999982 -21.86527021781596\n",
      "2.799999999999998 -22.423925551492463\n",
      "2.849999999999998 -22.985116013229273\n",
      "2.8999999999999977 -23.548775309188258\n",
      "2.9499999999999975 -24.11483971221888\n",
      "2.9999999999999973 -24.68324793105436\n",
      "3.049999999999997 -25.25394098773513\n",
      "3.099999999999997 -25.826862102646405\n",
      "3.149999999999997 -26.401956586609266\n",
      "3.1999999999999966 -26.979171739512257\n",
      "3.2499999999999964 -27.558456755013502\n",
      "3.2999999999999963 -28.139762630882284\n",
      "3.349999999999996 -28.7230420845843\n",
      "3.399999999999996 -29.308249473746862\n",
      "3.4499999999999957 -29.895340721169394\n",
      "3.4999999999999956 -30.484273244071055\n",
      "3.5499999999999954 -31.07500588729141\n",
      "3.599999999999995 -31.667498860182068\n",
      "3.649999999999995 -32.2617136769472\n",
      "3.699999999999995 -32.8576131002093\n",
      "3.7499999999999947 -33.45516108759305\n",
      "3.7999999999999945 -34.05432274113584\n",
      "3.8499999999999943 -34.65506425934722\n",
      "3.899999999999994 -35.25735289175254\n",
      "3.949999999999994 -35.86115689576802\n",
      "3.999999999999994 -36.466445495765115\n",
      "4.049999999999994 -37.07318884419218\n",
      "4.099999999999993 -37.681357984630644\n",
      "4.149999999999993 -38.290924816671215\n",
      "4.199999999999993 -38.90186206250371\n",
      "4.249999999999993 -39.51414323512107\n",
      "4.299999999999993 -40.12774260804487\n",
      "4.3499999999999925 -40.742635186485856\n",
      "4.399999999999992 -41.35879667985855\n",
      "4.449999999999992 -41.976203475574444\n",
      "4.499999999999992 -42.59483261404303\n",
      "4.549999999999992 -43.21466176481442\n",
      "4.599999999999992 -43.835669203801686\n",
      "4.6499999999999915 -44.45783379152468\n",
      "4.699999999999991 -45.08113495232096\n",
      "4.749999999999991 -45.705552654472626\n",
      "4.799999999999991 -46.331067391201074\n",
      "4.849999999999991 -46.957660162484615\n",
      "4.899999999999991 -47.585312457656535\n"
     ]
    },
    {
     "data": {
      "text/plain": [
       "([0.0 0.05 … 4.9 4.95], [0.0 -0.0186624 … -47.5853 -48.214])"
      ]
     },
     "execution_count": 44,
     "metadata": {},
     "output_type": "execute_result"
    }
   ],
   "source": [
    "(t,W)=RungaKutta(g,0,100,0.05) "
   ]
  },
  {
   "cell_type": "code",
   "execution_count": 51,
   "metadata": {},
   "outputs": [
    {
     "data": {
      "image/png": "[encoded data removed]",
      "text/plain": [
       "PyPlot.Figure(PyObject <matplotlib.figure.Figure object at 0x7f42afdb2490>)"
      ]
     },
     "metadata": {},
     "output_type": "display_data"
    },
    {
     "data": {
      "text/plain": [
       "PyObject <matplotlib.legend.Legend object at 0x7f42afcfff50>"
      ]
     },
     "execution_count": 51,
     "metadata": {},
     "output_type": "execute_result"
    }
   ],
   "source": [
    "using PyPlot\n",
    "title(\"Runge Kutta 4\")\n",
    "scatter(t,W,label=\"solucion\", label=\"h=0.05\" )\n",
    "legend()\n",
    "plot()"
   ]
  },
  {
   "cell_type": "code",
   "execution_count": 56,
   "metadata": {},
   "outputs": [
    {
     "data": {
      "text/plain": [
       "h (generic function with 1 method)"
      ]
     },
     "execution_count": 56,
     "metadata": {},
     "output_type": "execute_result"
    }
   ],
   "source": [
    "function h(t,x)    \n",
    "    (2x-18t)/(1+t)\n",
    "end"
   ]
  },
  {
   "cell_type": "code",
   "execution_count": 67,
   "metadata": {},
   "outputs": [
    {
     "data": {
      "text/plain": [
       "s (generic function with 1 method)"
      ]
     },
     "execution_count": 67,
     "metadata": {},
     "output_type": "execute_result"
    }
   ],
   "source": [
    "function s(t) #Esta es la solucion exacta de la ecuacion\n",
    "    4+8t-5t^2\n",
    "end"
   ]
  },
  {
   "cell_type": "code",
   "execution_count": 65,
   "metadata": {
    "scrolled": true
   },
   "outputs": [
    {
     "data": {
      "text/plain": [
       "(Any[4, 3.641, 3.28958, 2.94681, 2.614, 2.29266, 1.98465, 1.69212, 1.41763, 1.1641  …  1.04725, 1.05274, 1.05823, 1.06372, 1.06921, 1.0747, 1.08018, 1.08567, 1.09116, 1.09665], 0.0:0.05:10.0)"
      ]
     },
     "execution_count": 65,
     "metadata": {},
     "output_type": "execute_result"
    }
   ],
   "source": [
    "euler_puntoM(h,4,0,10,0.05)"
   ]
  },
  {
   "cell_type": "code",
   "execution_count": null,
   "metadata": {
    "collapsed": true
   },
   "outputs": [],
   "source": []
  }
 ],
 "metadata": {
  "kernelspec": {
   "display_name": "Julia 0.6.0",
   "language": "julia",
   "name": "julia-0.6"
  },
  "language_info": {
   "file_extension": ".jl",
   "mimetype": "application/julia",
   "name": "julia",
   "version": "0.6.0"
  }
 },
 "nbformat": 4,
 "nbformat_minor": 2
}
