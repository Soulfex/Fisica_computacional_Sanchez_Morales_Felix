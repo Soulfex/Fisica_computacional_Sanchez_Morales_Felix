{
 "cells": [
  {
   "cell_type": "code",
   "execution_count": 1,
   "metadata": {
    "collapsed": true
   },
   "outputs": [],
   "source": [
    "using SymPy\n"
   ]
  },
  {
   "cell_type": "code",
   "execution_count": 2,
   "metadata": {},
   "outputs": [
    {
     "data": {
      "text/plain": [
       "(A, x, x1, m)"
      ]
     },
     "execution_count": 2,
     "metadata": {},
     "output_type": "execute_result"
    },
    {
     "name": "stderr",
     "output_type": "stream",
     "text": [
      "WARNING: Compat.UTF8String is deprecated, use String instead.\n",
      "  likely near /home/felix/.julia/v0.6/IJulia/src/kernel.jl:31\n",
      "WARNING: Compat.UTF8String is deprecated, use String instead.\n",
      "  likely near /home/felix/.julia/v0.6/IJulia/src/kernel.jl:31\n",
      "WARNING: Compat.UTF8String is deprecated, use String instead.\n",
      "  likely near /home/felix/.julia/v0.6/IJulia/src/kernel.jl:31\n",
      "in jprint at /home/felix/.julia/v0.6/SymPy/src/display.jl\n"
     ]
    }
   ],
   "source": [
    "A,x,x1,m=symbols(\"A,x,x1,m\")"
   ]
  },
  {
   "cell_type": "code",
   "execution_count": 8,
   "metadata": {},
   "outputs": [
    {
     "data": {
      "text/plain": [
       "(::#223) (generic function with 1 method)"
      ]
     },
     "execution_count": 8,
     "metadata": {},
     "output_type": "execute_result"
    }
   ],
   "source": [
    "d=cos.(x)\n",
    "dif=lambdify( d,[x])"
   ]
  },
  {
   "cell_type": "code",
   "execution_count": 6,
   "metadata": {},
   "outputs": [
    {
     "data": {
      "text/plain": [
       "(::#223) (generic function with 1 method)"
      ]
     },
     "execution_count": 6,
     "metadata": {},
     "output_type": "execute_result"
    }
   ],
   "source": [
    "dif"
   ]
  },
  {
   "cell_type": "code",
   "execution_count": null,
   "metadata": {
    "collapsed": true
   },
   "outputs": [],
   "source": []
  }
 ],
 "metadata": {
  "kernelspec": {
   "display_name": "Julia 0.6.0",
   "language": "julia",
   "name": "julia-0.6"
  },
  "language_info": {
   "file_extension": ".jl",
   "mimetype": "application/julia",
   "name": "julia",
   "version": "0.6.0"
  }
 },
 "nbformat": 4,
 "nbformat_minor": 2
}
