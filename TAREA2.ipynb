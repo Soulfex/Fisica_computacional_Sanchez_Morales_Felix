{
 "cells": [
  {
   "cell_type": "code",
   "execution_count": 25,
   "metadata": {
    "collapsed": false
   },
   "outputs": [
    {
     "name": "stdout",
     "output_type": "stream",
     "text": [
      "1.2045025620655923 + 0.0im"
     ]
    },
    {
     "data": {
      "text/plain": [
       "0.2160544971519336 + 0.0im"
      ]
     },
     "execution_count": 25,
     "metadata": {},
     "output_type": "execute_result"
    }
   ],
   "source": [
    "A=10 # definimos a como una constante\n",
    "x0=1 # damos una condicion inicial\n",
    "N=2 # el numero de iteraciones, aqui probe con valores mas grandes pero converge muy rapido\n",
    "f(x) = x*tan(x)-sqrt(complex((A-x^(2)))) #Definimos la funcion\n",
    "df(x) = tan(x)+x*sec(x)^2+(x)/(sqrt(complex(A-x^2)))\n",
    "for i in 1:N\n",
    "    x= x0-(f(x0)/df(x0))\n",
    "    x0=x\n",
    "end\n",
    "print(x0)\n",
    "f(x0)"
   ]
  }
 ],
 "metadata": {
  "kernelspec": {
   "display_name": "Julia 0.6.0",
   "language": "julia",
   "name": "julia-0.6"
  },
  "language_info": {
   "file_extension": ".jl",
   "mimetype": "application/julia",
   "name": "julia",
   "version": "0.6.0"
  }
 },
 "nbformat": 4,
 "nbformat_minor": 2
}
