{
 "cells": [
  {
   "cell_type": "code",
   "execution_count": 2,
   "metadata": {
    "collapsed": false
   },
   "outputs": [
    {
     "ename": "LoadError",
     "evalue": "\u001b[91mMethodError: no method matching inicial()\u001b[0m\nClosest candidates are:\n  inicial(\u001b[91m::Any\u001b[39m) at In[2]:5\u001b[39m",
     "output_type": "error",
     "traceback": [
      "\u001b[91mMethodError: no method matching inicial()\u001b[0m\nClosest candidates are:\n  inicial(\u001b[91m::Any\u001b[39m) at In[2]:5\u001b[39m",
      "",
      "Stacktrace:",
      " [1] \u001b[1mmacro expansion\u001b[22m\u001b[22m at \u001b[1m./In[2]:10\u001b[22m\u001b[22m [inlined]",
      " [2] \u001b[1manonymous\u001b[22m\u001b[22m at \u001b[1m./<missing>:?\u001b[22m\u001b[22m"
     ]
    }
   ],
   "source": [
    "N=50 #definimos el numero de iteraciones que queremos hacer\n",
    "A=1 #definimos la variable A\n",
    "x=1 #Le damos un valor albitrario a x, como una x inicial\n",
    "xaprox=0.1\n",
    "inicial(x)= x*tan(x)-sqrt(complex(A-x^2))\n",
    "derivada(x)= tan(x)+x*sec^2(x)+(x/sqrt(complex(A-x^2)))\n",
    "    \n",
    "for i in 1:N\n",
    "    \n",
    "    xaprox= x-(inicial()/derivada(x))\n",
    "          \n",
    "    end\n",
    "        return x"
   ]
  },
  {
   "cell_type": "code",
   "execution_count": null,
   "metadata": {
    "collapsed": true
   },
   "outputs": [],
   "source": []
  }
 ],
 "metadata": {
  "kernelspec": {
   "display_name": "Julia 0.6.0",
   "language": "julia",
   "name": "julia-0.6"
  },
  "language_info": {
   "file_extension": ".jl",
   "mimetype": "application/julia",
   "name": "julia",
   "version": "0.6.0"
  }
 },
 "nbformat": 4,
 "nbformat_minor": 2
}
