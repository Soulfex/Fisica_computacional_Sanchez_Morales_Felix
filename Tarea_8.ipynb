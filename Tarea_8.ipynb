{
 "cells": [
  {
   "cell_type": "markdown",
   "metadata": {},
   "source": [
    "__Ejercicio 1__. Escribe una función `derivadaNumerica` que\n",
    "reciba: una función $f\\colon \\mathbb{R}\\mapsto\\mathbb{R}$,\n",
    "un punto $x_0\\in\\mathbb{R}$ y un número $h\\in\\mathbb{R}$. Esta función deberá calcular una aproximación a la\n",
    "derivada utilizando la definición indicada arriba ignorando\n",
    "la parte del límite. Es decir, algo como: `derivada_numerica(f,x,h)`.\n"
   ]
  },
  {
   "cell_type": "code",
   "execution_count": 1,
   "metadata": {},
   "outputs": [
    {
     "data": {
      "text/plain": [
       "derivada_numerica (generic function with 1 method)"
      ]
     },
     "execution_count": 1,
     "metadata": {},
     "output_type": "execute_result"
    }
   ],
   "source": [
    "function derivada_numerica(f::Function,x,h) # Hacemos la función para calcular la derivada númerica\n",
    "   \n",
    "    der=(f(x+h)-f(x))/h # Definimos la expresión que nos da la derivada numerica, omitiendo el limite \n",
    "   \n",
    "    \n",
    "    return der\n",
    "    \n",
    "end"
   ]
  },
  {
   "cell_type": "code",
   "execution_count": 2,
   "metadata": {},
   "outputs": [
    {
     "data": {
      "text/plain": [
       "10.000009999444615"
      ]
     },
     "execution_count": 2,
     "metadata": {},
     "output_type": "execute_result"
    }
   ],
   "source": [
    "derivada_numerica(x->x^2,5,0.00001) # aquí se pone una h lo sufucientemente pequeña para que el valor de la derivada conveja al valor real "
   ]
  },
  {
   "cell_type": "markdown",
   "metadata": {},
   "source": [
    "__Ejercicio 7:__ Explotar la relación $\\delta_h=\\Delta_h-\\Delta_{-h}$, donde $\\delta_h:f(x)\\mapsto f(x+h)-f(x-h)$, para encontrar cual es la función $\\theta$ que relaciona a $\\delta_h$ con el operador derivada exacta, es decir:\n",
    "$$\\delta_h=\\theta\\left(h\\left. \\frac{d}{d\\xi}\\right|_{\\xi=x}\\right).$$\n",
    "\n",
    "Una vez que la encuentren, despejen $\\left. \\frac{d}{d\\xi}\\right|_{\\xi=x}$ y calculen la serie de Taylor de mánera similar a lo mostrado en las ecuaciones 3 y 4."
   ]
  },
  {
   "cell_type": "markdown",
   "metadata": {},
   "source": [
    "Tenemos que $\\delta_h=\\Delta_h-\\Delta_{-h}$ entonces\n",
    "\n",
    "$$\\delta_h f(x)= f(x+h)-f(x-h)$$\n",
    "\n",
    "$$\\Delta_h=exp\\left(h\\left. \\frac{d}{d\\xi}\\right|_{\\xi=x}\\right)-1$$\n",
    "$$\\Delta_{-h}=exp\\left(-h\\left. \\frac{d}{d\\xi}\\right|_{\\xi=x}\\right)-1$$\n",
    "\n",
    "entonces$\\space$ $$\\delta_h=exp\\left(h\\left. \\frac{d}{d\\xi}\\right|_{\\xi=x}\\right)-1-(exp\\left(-h\\left. \\frac{d}{d\\xi}\\right|_{\\xi=x}\\right)-1$$\n",
    "\n",
    "ahora tenemos que $\\space$ $\\delta_h=2sinh\\left(h\\left. \\frac{d}{d\\xi}\\right|_{\\xi=x}\\right)$ $\\space$ y entonces:\n",
    "\n",
    "$$\\left. \\frac{d}{d\\xi}\\right|_{\\xi=x}=\\frac{1}{h}sinh^{-1} \\left( \\frac{\\delta_{h}}{2}\\right)$$\n",
    "$$=\\frac{1}{h}\\sum\\nolimits_{n=0}^\\infty\\frac{(-1^{n})(2n)!}{2^{2n}(n!)^{2}}\\left( \\frac{\\delta_{h}}{2}\\right)^{2n}$$\n",
    "\n"
   ]
  },
  {
   "cell_type": "code",
   "execution_count": null,
   "metadata": {
    "collapsed": true
   },
   "outputs": [],
   "source": []
  }
 ],
 "metadata": {
  "kernelspec": {
   "display_name": "Julia 0.6.0",
   "language": "julia",
   "name": "julia-0.6"
  },
  "language_info": {
   "file_extension": ".jl",
   "mimetype": "application/julia",
   "name": "julia",
   "version": "0.6.0"
  }
 },
 "nbformat": 4,
 "nbformat_minor": 2
}
