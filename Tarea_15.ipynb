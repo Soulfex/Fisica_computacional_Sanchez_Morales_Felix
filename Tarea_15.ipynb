{
 "cells": [
  {
   "cell_type": "markdown",
   "metadata": {},
   "source": [
    "__Ejercicio 1:__ Crear la libreria herramientas dentro de su carpeta de tareas, en su repositorio. Dentro deberán poner los métodos de Newton que construyeron, los métodos de integración, Euler independiente de dimensión (implícito y explícito)y Runge-Kutta independiente de dimensión. Recuerden que las rutinas deben funcionar solo con sus argumentos, no debe haber variables globales, todo lo que necesite la función para trabajar debe ser un argumento o una variable definida internamente.\n",
    "* Las rutinas tienen que llevar su documentación.\n",
    "* Crearán el notebook de la __tarea 15 (para el Martes 17)__ y en el llamarán a su libreria con el comando `import`.\n",
    "* Deberán demostrar que sus rutinas funcionan bien, no se necesitan tests extensos, basta con que muestren que si _corren_ las rutinas."
   ]
  },
  {
   "cell_type": "code",
   "execution_count": 41,
   "metadata": {},
   "outputs": [
    {
     "name": "stderr",
     "output_type": "stream",
     "text": [
      "WARNING: replacing module herramientas\n"
     ]
    },
    {
     "data": {
      "text/plain": [
       "herramientas"
      ]
     },
     "execution_count": 41,
     "metadata": {},
     "output_type": "execute_result"
    }
   ],
   "source": [
    "__precompile__() # Este comando es para que julia precompile el paquete\n",
    "\n",
    "module herramientas\n",
    "export Metodo_Newton\n",
    "\"\"\"documentación del método de Newton\"\"\"\n",
    "\n",
    "function Metodo_Newton(x0, f::Function, df::Function) #Comenzamos definiendo nuestra funcion y lo que esta va hacer\n",
    "   \n",
    "    N=200\n",
    "    \n",
    "    for i in 1:N\n",
    "    \n",
    "        x0= x0-(f(x0)/df(x0))\n",
    "   \n",
    "    end\n",
    "  \n",
    "    return x0\n",
    "end\n",
    "\n",
    "export Newton_ultimate\n",
    "\n",
    "using SymPy\n",
    "A,x,a,n,m=symbols(\"A,x,a,n,m\") # Definimos los simbolos que se van a ocupar\n",
    "tol=0.00001\n",
    "\n",
    "function Newton_ultimate(f::Function,x0)\n",
    "    df = simplify(diff(f),[x])\n",
    "    d = lambdify(df,[x])\n",
    "    eps=200\n",
    "    \n",
    "    for i in 1:eps\n",
    "    \n",
    "        x0= x0-(f(x0)/d(x0))\n",
    "   \n",
    "    end\n",
    "  \n",
    "    return x0\n",
    "  \n",
    "end\n",
    "\n",
    "\n",
    "\n",
    "\n",
    "\n",
    "export integracion_rectangulo\n",
    "\"\"\"Documentacion para método del rectangulo\"\"\"\n",
    "\n",
    "function integracion_rectangulo(f,a,b) # donde x es el rago de integración y f es la función\n",
    "array=[]    # Definimos un arreglo donde se van guardando las aproximaciones\n",
    "N=100        # Definimos el número de iteraciones \n",
    "suma=0      # inicializamos la variable suma    \n",
    "total=0     # inicializamos la variable que nos dara el resultado\n",
    "h=(b-a)/N # esta es la expresión que nos dara la partición de nuestro intervalo\n",
    "b=a #fijamos un valor inferior de nuestro intervalo\n",
    "        \n",
    "    for i in 1:N  #con un ciclo for vamos cambiando de intervalo, es decir vamos recorriendo la base de los rectangulos\n",
    "           a=b    # actualizamos el limite inferior de la base\n",
    "           b=h+b  # actualizamos el limite superior de la base\n",
    "           suma = (b-a)*f((a+b)/2) # Definimos nuestraexpresion de base por altura\n",
    "           total=suma+total # Actualizamos el valor de total\n",
    "        \n",
    "    \n",
    "    push!(array,total) # llenamos el arreglo con los valores de total\n",
    "        end \n",
    "    \n",
    "    return total\n",
    "\n",
    "    end\n",
    "\n",
    "\n",
    "export integratetrap\n",
    "\"\"\"Domcumentacion para metodo del trapecio\"\"\"\n",
    "\n",
    "function integratetrap(f::Function,a,b) # donde a-b es el rago de integración y f es la función\n",
    "array2=[]    #Definimos un arreglo donde se van guardando las aproximaciones\n",
    "P=100\n",
    "sumatrap=1\n",
    "totaltrap=0     # inicializamos la variable que nos dara el resultado\n",
    "h=(b-a)/N # esta es la expresión que nos dara la particion de nuestro intervalo\n",
    "b=a #fijamos un valor inferior de nuestro intervalo\n",
    "        \n",
    "    for i in 1:N  #con un ciclo for vamos cambiando de intervalo, es decir vamos recorriendo la base de los rectangulos\n",
    "           a=b    # actualizamos el limite inferior de la base\n",
    "           b=h+b  # actualizamos el limite superior de la base\n",
    "           sumatrap = (b-a)*f((a+b)/2) # Definimos nuestra expresion de base por altura\n",
    "           totaltrap=sumatrap+totaltrap # Actualizamos el valor de total    \n",
    "        \n",
    "    push!(array2,totaltrap) # Llenamos el arreglo con los datos que nos arrojan en cada interación\n",
    "    \n",
    "    \n",
    "    end\n",
    "    \n",
    "    return totaltrap\n",
    "\n",
    "end\n",
    "\n",
    "export Metodo_Simpson\n",
    "\"\"\" Documentacion para método de simpson\"\"\"\n",
    "\n",
    "\n",
    "\n",
    "array3=[] #Definimos un arreglo donde se van guardando las aproximaciones\n",
    "deltax=[]\n",
    "G=100\n",
    "sumaSim=1\n",
    "function integrateSim(f::Function,a,b) # donde a-b es el rago de integración y f es la función\n",
    "totalSim=0     # inicializamos la variable que nos dara el resultado\n",
    "h=(b-a)/G # esta es la expresión que nos dara la particion de nuestro intervalo\n",
    "b=a #fijamos un valor inferior de nuestro intervalo\n",
    "        \n",
    "    for i in 1:G  #con un ciclo for vamos cambiando de intervalo, es decir vamos recorriendo la base de los rectangulos\n",
    "           a=b    # actualizamos el limite inferior de la base\n",
    "           b=h+b  # actualizamos el limite superior de la base\n",
    "           sumaSim = ((b-a)/6)*(f(a)+4*f((a+b)/2)+f(b)) # Definimos nuestra expresion de base por altura\n",
    "           totalSim=sumaSim+totalSim # Actualizamos el valor de total    \n",
    "        \n",
    "    push!(array3,totalSim) # Llenamos el arreglo con los datos que nos arrojan en cada interación\n",
    "    \n",
    "    push!(deltax,1/(b-a))\n",
    "    end\n",
    "    \n",
    "    return totalSim\n",
    "\n",
    "end\n",
    "\n",
    "export euler\n",
    "\"\"\"Documentacion para euler\"\"\"\n",
    "function euler(f,list,x0)\n",
    "     x = x0\n",
    "     h = list[2]-list[1]\n",
    "     listx=[]\n",
    "     push!(listx,x)\n",
    "     for i in 2:length(list)\n",
    "        t = i*h\n",
    "        x = x + f(x,t)*h\n",
    "        push!(listx,x) \n",
    "     end\n",
    "     return listx\n",
    "    end\n",
    "\n",
    "\n",
    "export metodo_euler_implicit\n",
    "\"\"\"Documentación para euler implicito\"\"\"\n",
    "\n",
    "#Para el método de Euler implicito necesitaremos el metodo de Newton así que lo vamos a definir \n",
    "\n",
    "\n",
    "function metodo_euler_implicit(f::Function,t0::Float64,tf::Float64,x0::Float64,h::Float64) # ahora hacemos la funcion de Euler implicito\n",
    "    x = x0 # igualamos x a x0\n",
    "    lista_x = [] # Definimos un arreglo donde se iran guardando los datos\n",
    "    push!(lista_x,x) #llenamos nuestro arreglo con las x\n",
    "    lista_t = linspace(t0,tf,(tf-t0)/h+1) # con esto se crea  intervalos\n",
    "    \n",
    "    for i in 2:length(lista_t)  # con este ciclo for se implementara nuestra formula\n",
    "        t = i*h\n",
    "        g(x)= x - lista_x[i-1] - h*f(x,lista_t[i])\n",
    "        x2 = Newton_ultimate(g,lista_t[length(lista_t)])\n",
    "        push!(lista_x,x2)\n",
    "    end\n",
    "  \n",
    "    \n",
    "    \n",
    "    return lista_x,lista_t\n",
    "end\n",
    "\n",
    "\n",
    "export euler_puntoM\n",
    "\"\"\"Documentación para euler punto medio\"\"\"\n",
    "\n",
    "#Aqui practicamente es lo mismo que Euler, entonces comenzamos definiendo una funcion \n",
    "function euler_puntoM(f,list,x0)\n",
    "     x = x0\n",
    "     h = list[2]-list[1]\n",
    "     listx=[]\n",
    "     push!(listx,x)\n",
    "     for i in 2:length(list)\n",
    "        t = i*h\n",
    "        t2 = i*h+h/2\n",
    "        x = x + +h*f(x+f(x,t)*h/2,t2)\n",
    "        push!(listx,x) \n",
    "     end\n",
    "     return listx\n",
    "    end\n",
    " \n",
    "export runge_kutta\n",
    "\"\"\"Documentacion para método de Runge Kutta\"\"\"\n",
    "function runge_kutta(f,list,x0)\n",
    "     x = x0\n",
    "     h = list[2]-list[1]\n",
    "     listx=[]\n",
    "     push!(listx,x)\n",
    "     for i in 2:length(list)\n",
    "        t = i*h\n",
    "        t2 = i*h+h/2\n",
    "        #Se actualizan las \"kutas\":\n",
    "        k1 = f(x,t)\n",
    "        k2 = f(x+(h/2)*k1,t2)\n",
    "        k3 = f(x+(h/2)*k2,t2)\n",
    "        k4 = f(x+h*k3,t)\n",
    "        x = x+(h/6)*(k1+2*k2+2*k3+k4) #Por definicion Runge_kutta orden 4\n",
    "        push!(listx,x) \n",
    "     end\n",
    "     return listx\n",
    "end;\n",
    "\n",
    "\n",
    "end\n",
    "\n",
    "\n",
    "\n",
    "\n"
   ]
  },
  {
   "cell_type": "code",
   "execution_count": 31,
   "metadata": {
    "collapsed": true
   },
   "outputs": [],
   "source": [
    "import herramientas \n"
   ]
  },
  {
   "cell_type": "code",
   "execution_count": 22,
   "metadata": {},
   "outputs": [
    {
     "data": {
      "text/plain": [
       "1.8392867552141612"
      ]
     },
     "execution_count": 22,
     "metadata": {},
     "output_type": "execute_result"
    }
   ],
   "source": [
    "herramientas.Metodo_Newton(1.000001, x->(x^3)-(x^2)-x-1, x->3*(x^2)-2*x-1) #Vesmos si funciona"
   ]
  },
  {
   "cell_type": "code",
   "execution_count": 23,
   "metadata": {},
   "outputs": [
    {
     "name": "stderr",
     "output_type": "stream",
     "text": [
      "WARNING: Compat.UTF8String is deprecated, use String instead.\n",
      "  likely near In[23]:1\n",
      "WARNING: Compat.UTF8String is deprecated, use String instead.\n",
      "  likely near In[23]:1\n",
      "WARNING: Compat.UTF8String is deprecated, use String instead.\n",
      "  likely near In[23]:1\n",
      "in jprint at /home/felix/.julia/v0.6/SymPy/src/display.jl\n"
     ]
    },
    {
     "data": {
      "text/plain": [
       "1.8392867552141612"
      ]
     },
     "execution_count": 23,
     "metadata": {},
     "output_type": "execute_result"
    }
   ],
   "source": [
    "herramientas.Newton_ultimate.(x->(x^3)-(x^2)-x-1, 3)# Efectivamente, Sí funciona! :)"
   ]
  },
  {
   "cell_type": "code",
   "execution_count": 24,
   "metadata": {},
   "outputs": [
    {
     "data": {
      "text/plain": [
       "333.32499999999806"
      ]
     },
     "execution_count": 24,
     "metadata": {},
     "output_type": "execute_result"
    }
   ],
   "source": [
    "herramientas.integracion_rectangulo(x->x^2,0,10)"
   ]
  },
  {
   "cell_type": "code",
   "execution_count": 32,
   "metadata": {},
   "outputs": [
    {
     "ename": "LoadError",
     "evalue": "\u001b[91mMethodError: no method matching /(::Int64, ::SymPy.#N)\u001b[0m\nClosest candidates are:\n  /(\u001b[91m::PyCall.PyObject\u001b[39m, ::Any) at /home/felix/.julia/v0.6/PyCall/src/pyoperators.jl:11\n  /(::Union{Int128, Int16, Int32, Int64, Int8, UInt128, UInt16, UInt32, UInt64, UInt8}, \u001b[91m::Union{Int128, Int16, Int32, Int64, Int8, UInt128, UInt16, UInt32, UInt64, UInt8}\u001b[39m) at int.jl:38\n  /(::Union{Int16, Int32, Int64, Int8, UInt16, UInt32, UInt64, UInt8}, \u001b[91m::BigInt\u001b[39m) at gmp.jl:381\n  ...\u001b[39m",
     "output_type": "error",
     "traceback": [
      "\u001b[91mMethodError: no method matching /(::Int64, ::SymPy.#N)\u001b[0m\nClosest candidates are:\n  /(\u001b[91m::PyCall.PyObject\u001b[39m, ::Any) at /home/felix/.julia/v0.6/PyCall/src/pyoperators.jl:11\n  /(::Union{Int128, Int16, Int32, Int64, Int8, UInt128, UInt16, UInt32, UInt64, UInt8}, \u001b[91m::Union{Int128, Int16, Int32, Int64, Int8, UInt128, UInt16, UInt32, UInt64, UInt8}\u001b[39m) at int.jl:38\n  /(::Union{Int16, Int32, Int64, Int8, UInt16, UInt32, UInt64, UInt8}, \u001b[91m::BigInt\u001b[39m) at gmp.jl:381\n  ...\u001b[39m",
      "",
      "Stacktrace:",
      " [1] \u001b[1mintegratetrap\u001b[22m\u001b[22m\u001b[1m(\u001b[22m\u001b[22m::##23#24, ::Int64, ::Int64\u001b[1m)\u001b[22m\u001b[22m at \u001b[1m./In[29]:79\u001b[22m\u001b[22m",
      " [2] \u001b[1minclude_string\u001b[22m\u001b[22m\u001b[1m(\u001b[22m\u001b[22m::String, ::String\u001b[1m)\u001b[22m\u001b[22m at \u001b[1m./loading.jl:515\u001b[22m\u001b[22m"
     ]
    }
   ],
   "source": [
    "herramientas.integratetrap(x->x^3,0,10)"
   ]
  },
  {
   "cell_type": "code",
   "execution_count": 35,
   "metadata": {},
   "outputs": [
    {
     "data": {
      "text/plain": [
       "7.129713486264677e-16"
      ]
     },
     "execution_count": 35,
     "metadata": {},
     "output_type": "execute_result"
    }
   ],
   "source": [
    "herramientas.integrateSim(x->sin(x),0,2pi)"
   ]
  },
  {
   "cell_type": "code",
   "execution_count": 36,
   "metadata": {},
   "outputs": [
    {
     "data": {
      "text/plain": [
       "1001-element Array{Any,1}:\n",
       " [1, 0]                    \n",
       " [1.0, -0.01]              \n",
       " [0.9999, -0.0199]         \n",
       " [0.999701, -0.0297]       \n",
       " [0.999404, -0.0394]       \n",
       " [0.99901, -0.049]         \n",
       " [0.99852, -0.0585001]     \n",
       " [0.997935, -0.0679003]    \n",
       " [0.997256, -0.0772007]    \n",
       " [0.996484, -0.0864012]    \n",
       " [0.99562, -0.0955021]     \n",
       " [0.994665, -0.104503]     \n",
       " [0.99362, -0.113405]      \n",
       " ⋮                         \n",
       " [-0.00192349, -0.00614518]\n",
       " [-0.00198494, -0.00606449]\n",
       " [-0.00204559, -0.005984]  \n",
       " [-0.00210543, -0.0059037] \n",
       " [-0.00216446, -0.00582361]\n",
       " [-0.0022227, -0.00574373] \n",
       " [-0.00228014, -0.00566407]\n",
       " [-0.00233678, -0.00558463]\n",
       " [-0.00239262, -0.00550541]\n",
       " [-0.00244768, -0.00542643]\n",
       " [-0.00250194, -0.00534769]\n",
       " [-0.00255542, -0.00526919]"
      ]
     },
     "execution_count": 36,
     "metadata": {},
     "output_type": "execute_result"
    }
   ],
   "source": [
    "list=0:0.01:10;\n",
    "herramientas.euler((x,t)->[x[2], -1.0*x[1]-x[2]],list,[1,0])"
   ]
  },
  {
   "cell_type": "code",
   "execution_count": 40,
   "metadata": {},
   "outputs": [
    {
     "data": {
      "text/plain": [
       "(Any[2.0, 1.95122, 1.90363, 1.8572, 1.8119, 1.76771, 1.72459, 1.68253, 1.64149, 1.60146  …  6.58343e-9, 6.42286e-9, 6.26621e-9, 6.11337e-9, 5.96427e-9, 5.8188e-9, 5.67687e-9, 5.53841e-9, 5.40333e-9, 5.27154e-9], 0.0:0.01:8.0)"
      ]
     },
     "execution_count": 40,
     "metadata": {},
     "output_type": "execute_result"
    }
   ],
   "source": [
    "herramientas.metodo_euler_implicit((x,t)->-(2.5)*x,0.0,8.0,2.0,0.01)"
   ]
  },
  {
   "cell_type": "code",
   "execution_count": 42,
   "metadata": {},
   "outputs": [
    {
     "data": {
      "text/plain": [
       "1001-element Array{Any,1}:\n",
       " [1, 0]            \n",
       " [0.975313, 0.0]   \n",
       " [0.951234, 0.0]   \n",
       " [0.927751, 0.0]   \n",
       " [0.904847, 0.0]   \n",
       " [0.882509, 0.0]   \n",
       " [0.860722, 0.0]   \n",
       " [0.839473, 0.0]   \n",
       " [0.818748, 0.0]   \n",
       " [0.798535, 0.0]   \n",
       " [0.778821, 0.0]   \n",
       " [0.759594, 0.0]   \n",
       " [0.740842, 0.0]   \n",
       " ⋮                 \n",
       " [1.83319e-11, 0.0]\n",
       " [1.78794e-11, 0.0]\n",
       " [1.7438e-11, 0.0] \n",
       " [1.70075e-11, 0.0]\n",
       " [1.65876e-11, 0.0]\n",
       " [1.61781e-11, 0.0]\n",
       " [1.57787e-11, 0.0]\n",
       " [1.53892e-11, 0.0]\n",
       " [1.50092e-11, 0.0]\n",
       " [1.46387e-11, 0.0]\n",
       " [1.42773e-11, 0.0]\n",
       " [1.39248e-11, 0.0]"
      ]
     },
     "execution_count": 42,
     "metadata": {},
     "output_type": "execute_result"
    }
   ],
   "source": [
    "list=0:0.01:10;\n",
    "herramientas.euler_puntoM((x,t)->-(2.5)*x,list,[1,0])"
   ]
  },
  {
   "cell_type": "code",
   "execution_count": 43,
   "metadata": {},
   "outputs": [
    {
     "data": {
      "text/plain": [
       "1001-element Array{Any,1}:\n",
       " [1, 0]            \n",
       " [0.97531, 0.0]    \n",
       " [0.951229, 0.0]   \n",
       " [0.927743, 0.0]   \n",
       " [0.904837, 0.0]   \n",
       " [0.882497, 0.0]   \n",
       " [0.860708, 0.0]   \n",
       " [0.839457, 0.0]   \n",
       " [0.818731, 0.0]   \n",
       " [0.798516, 0.0]   \n",
       " [0.778801, 0.0]   \n",
       " [0.759572, 0.0]   \n",
       " [0.740818, 0.0]   \n",
       " ⋮                 \n",
       " [1.82839e-11, 0.0]\n",
       " [1.78325e-11, 0.0]\n",
       " [1.73922e-11, 0.0]\n",
       " [1.69628e-11, 0.0]\n",
       " [1.6544e-11, 0.0] \n",
       " [1.61355e-11, 0.0]\n",
       " [1.57371e-11, 0.0]\n",
       " [1.53486e-11, 0.0]\n",
       " [1.49696e-11, 0.0]\n",
       " [1.46e-11, 0.0]   \n",
       " [1.42395e-11, 0.0]\n",
       " [1.38879e-11, 0.0]"
      ]
     },
     "execution_count": 43,
     "metadata": {},
     "output_type": "execute_result"
    }
   ],
   "source": [
    "herramientas.runge_kutta((x,t)->-(2.5)*x,list,[1,0])"
   ]
  },
  {
   "cell_type": "code",
   "execution_count": null,
   "metadata": {
    "collapsed": true
   },
   "outputs": [],
   "source": []
  }
 ],
 "metadata": {
  "kernelspec": {
   "display_name": "Julia 0.6.0",
   "language": "julia",
   "name": "julia-0.6"
  },
  "language_info": {
   "file_extension": ".jl",
   "mimetype": "application/julia",
   "name": "julia",
   "version": "0.6.0"
  }
 },
 "nbformat": 4,
 "nbformat_minor": 2
}
