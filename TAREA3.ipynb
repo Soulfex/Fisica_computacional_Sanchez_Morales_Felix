{
 "cells": [
  {
   "cell_type": "code",
   "execution_count": null,
   "metadata": {
    "collapsed": false
   },
   "outputs": [],
   "source": [
    "A=10 #le damos valor arbitrario a A\n",
    "f(x) = (x)*tan(x)-sqrt(complex((A-x^(2)))) #definimos la funcion\n",
    "df(x) = tan(x)+(x)*(sec(x))^2+(x)/(sqrt(complex(A-x^2))) #definimos la derivada de la funcion, la cual se obtuvo en la libreta\n",
    "xold=3 # le damos una condicion inicial a xold\n",
    "while f(xold)!=0 # aqui el ciclo while seguira hasta que f(xold) sea igual a 0\n",
    "\n",
    "    xnew=xold-f(xold)/df(xold) #esta es la expresion para el metodo de N\n",
    "    xold=xnew\n",
    "end\n",
    "\n",
    "f(xold)\n",
    "\n"
   ]
  },
  {
   "cell_type": "code",
   "execution_count": 6,
   "metadata": {
    "collapsed": false
   },
   "outputs": [
    {
     "data": {
      "text/plain": [
       "1.2226334489710151 - 0.0im"
      ]
     },
     "execution_count": 6,
     "metadata": {},
     "output_type": "execute_result"
    }
   ],
   "source": [
    "\n",
    "    "
   ]
  },
  {
   "cell_type": "code",
   "execution_count": null,
   "metadata": {
    "collapsed": true
   },
   "outputs": [],
   "source": []
  }
 ],
 "metadata": {
  "kernelspec": {
   "display_name": "Julia 0.6.0",
   "language": "julia",
   "name": "julia-0.6"
  },
  "language_info": {
   "file_extension": ".jl",
   "mimetype": "application/julia",
   "name": "julia",
   "version": "0.6.0"
  }
 },
 "nbformat": 4,
 "nbformat_minor": 2
}
