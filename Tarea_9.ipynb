{
 "cells": [
  {
   "cell_type": "markdown",
   "metadata": {},
   "source": [
    "__Ejercicio 2__. Utiliza tu función `derivadaNumerica` para\n",
    "calcular la derivada de la función $\\cos$ en un punto\n",
    "$x_0\\in[0,1)$. Compara tu resultado con el que indica el\n",
    "cálculo exacto. Utiliza valores de $h$ cada vez más pequeños, grafica el comportamiento de la derivada y muestra como converge al valor exacto conforme tomamos $h$ cada vez más pequeño. Para ello pueden graficar el resultado de la derivada numérica contra $1/h$.\n",
    "Observa el resultado de la aproximación y comenta. ¿El error es del orden de $h$?"
   ]
  },
  {
   "cell_type": "code",
   "execution_count": 164,
   "metadata": {},
   "outputs": [
    {
     "data": {
      "text/plain": [
       "derivadaNumerica (generic function with 1 method)"
      ]
     },
     "execution_count": 164,
     "metadata": {},
     "output_type": "execute_result"
    }
   ],
   "source": [
    "function derivadaNumerica(f::Function,x,h) #Definimos la funcion que hara el calculo de la derivada númerica\n",
    "    \n",
    "    return (f(x+h)-f(x))/h\n",
    "end"
   ]
  },
  {
   "cell_type": "code",
   "execution_count": 165,
   "metadata": {},
   "outputs": [
    {
     "data": {
      "text/plain": [
       "-0.5224694698069443"
      ]
     },
     "execution_count": 165,
     "metadata": {},
     "output_type": "execute_result"
    }
   ],
   "source": [
    "derivadaNumerica(x->cos(x),1/2,0.1) # el valor aproximado es este"
   ]
  },
  {
   "cell_type": "code",
   "execution_count": 166,
   "metadata": {},
   "outputs": [
    {
     "data": {
      "text/plain": [
       "-0.479425538604203"
      ]
     },
     "execution_count": 166,
     "metadata": {},
     "output_type": "execute_result"
    }
   ],
   "source": [
    "-sin(1/2) # este es el valor real ya que la derivada de cos(x) es -sin(x)"
   ]
  },
  {
   "cell_type": "code",
   "execution_count": 167,
   "metadata": {},
   "outputs": [
    {
     "data": {
      "text/plain": [
       "listah (generic function with 2 methods)"
      ]
     },
     "execution_count": 167,
     "metadata": {},
     "output_type": "execute_result"
    }
   ],
   "source": [
    "function listah(h) # con esta funcion haremos una arreglo de h's las cuales utilizaremos para calcular la derivada\n",
    "arreglo=[] \n",
    "    \n",
    "    while h>0.01 # con este While haremos que h se haga cada vez más pequeña\n",
    "        h-=0.1\n",
    "        push!(arreglo,h) # llenamos el arreglo con las h \n",
    "    end\n",
    "    return arreglo # pedimos que nos regrese el arreglo\n",
    "end\n"
   ]
  },
  {
   "cell_type": "code",
   "execution_count": 168,
   "metadata": {},
   "outputs": [
    {
     "data": {
      "text/plain": [
       "50-element Array{Any,1}:\n",
       " 4.9        \n",
       " 4.8        \n",
       " 4.7        \n",
       " 4.6        \n",
       " 4.5        \n",
       " 4.4        \n",
       " 4.3        \n",
       " 4.2        \n",
       " 4.1        \n",
       " 4.0        \n",
       " 3.9        \n",
       " 3.8        \n",
       " 3.7        \n",
       " ⋮          \n",
       " 1.1        \n",
       " 1.0        \n",
       " 0.9        \n",
       " 0.8        \n",
       " 0.7        \n",
       " 0.6        \n",
       " 0.5        \n",
       " 0.4        \n",
       " 0.3        \n",
       " 0.2        \n",
       " 0.1        \n",
       " 1.02696e-15"
      ]
     },
     "execution_count": 168,
     "metadata": {},
     "output_type": "execute_result"
    }
   ],
   "source": [
    "listah(5) # probamos nuestra función y vemos que efectivamente funciona"
   ]
  },
  {
   "cell_type": "code",
   "execution_count": 169,
   "metadata": {},
   "outputs": [
    {
     "data": {
      "text/plain": [
       "hinversa (generic function with 1 method)"
      ]
     },
     "execution_count": 169,
     "metadata": {},
     "output_type": "execute_result"
    }
   ],
   "source": [
    "function hinversa(h)\n",
    "listahin=[]\n",
    "    while h>0.01\n",
    "        h-=0.1\n",
    "        push!(listahin,1/h)\n",
    "    end\n",
    "    return listahin\n",
    "end"
   ]
  },
  {
   "cell_type": "code",
   "execution_count": 170,
   "metadata": {},
   "outputs": [
    {
     "data": {
      "text/plain": [
       "50-element Array{Any,1}:\n",
       "  0.204082  \n",
       "  0.208333  \n",
       "  0.212766  \n",
       "  0.217391  \n",
       "  0.222222  \n",
       "  0.227273  \n",
       "  0.232558  \n",
       "  0.238095  \n",
       "  0.243902  \n",
       "  0.25      \n",
       "  0.25641   \n",
       "  0.263158  \n",
       "  0.27027   \n",
       "  ⋮         \n",
       "  0.909091  \n",
       "  1.0       \n",
       "  1.11111   \n",
       "  1.25      \n",
       "  1.42857   \n",
       "  1.66667   \n",
       "  2.0       \n",
       "  2.5       \n",
       "  3.33333   \n",
       "  5.0       \n",
       " 10.0       \n",
       "  9.73751e14"
      ]
     },
     "execution_count": 170,
     "metadata": {},
     "output_type": "execute_result"
    }
   ],
   "source": [
    "hinversa(5)"
   ]
  },
  {
   "cell_type": "code",
   "execution_count": 207,
   "metadata": {},
   "outputs": [
    {
     "data": {
      "text/plain": [
       "grafica (generic function with 2 methods)"
      ]
     },
     "execution_count": 207,
     "metadata": {},
     "output_type": "execute_result"
    }
   ],
   "source": [
    "using SymPy\n",
    "using PyPlot\n",
    "function grafica(f::Function,x,h,exacta) # Con esta funcion graficaremos la derivada de cos mientras h se hace pequeña\n",
    "array=listah(h) #le pasamos lo que hace nuestra función listah(x)\n",
    "array2=[] # Definimos un arreglo vacio donde iremos guardando los valores de nuestra derivada mientras esta se aproxima a la solucion exacta.\n",
    "Error=[]\n",
    "array3=hinversa(h) # le pasamos la funcion que va invertir la h para graficarla \n",
    "\n",
    "    for i in 1:length(array) # Con este ciclo for obtendremos el valor de la derivada conforme h se hace más pequeña\n",
    "         \n",
    "        push!(array2,derivadaNumerica(f,x,array[i])) #llenamos el arreglo con los valores de la derivada, aqui utilizamos la funcion del ejercici 1\n",
    "        #push!(array3, 1/h) # aqui \n",
    "        er=abs((derivadaNumerica(f,x,array[i])-exacta)/exacta)\n",
    "        push!(Error,er)\n",
    "        \n",
    "        \n",
    "    \n",
    "    end\n",
    "#print(Error)\n",
    "#plot(array,Error)\n",
    "#print(array2)\n",
    "plot(array3,array2)\n",
    "    \n",
    "end\n",
    "        \n",
    "        \n",
    "\n"
   ]
  },
  {
   "cell_type": "code",
   "execution_count": 208,
   "metadata": {},
   "outputs": [
    {
     "data": {
      "image/png": "[encoded data removed]",
      "text/plain": [
       "PyPlot.Figure(PyObject <matplotlib.figure.Figure object at 0x7f5a40a8cad0>)"
      ]
     },
     "metadata": {},
     "output_type": "display_data"
    },
    {
     "data": {
      "text/plain": [
       "1-element Array{Any,1}:\n",
       " PyObject <matplotlib.lines.Line2D object at 0x7f5a40a05110>"
      ]
     },
     "execution_count": 208,
     "metadata": {},
     "output_type": "execute_result"
    }
   ],
   "source": [
    "grafica(x->cos.(x),1/2,3,-0.479425538604203)# No sé por qué la grafica queda así, hice muchas pruebas,y creo que el error esta al momento de inverti las h\n",
    "#Se puede tambien observar que al imprimir el arreglo de las derivadas este si se aproxima a la h exacta"
   ]
  },
  {
   "cell_type": "code",
   "execution_count": null,
   "metadata": {
    "collapsed": true
   },
   "outputs": [],
   "source": [
    "function error_derivada(f,x,h,exacta)\n",
    " error=[]\n",
    " arreglo_=listah(h)  \n",
    "\n",
    "    \n",
    "    for i in 1:lenght(arreglo_)\n",
    "        \n",
    "        er=abs((derivadaNumerica(f,x,)-exacta)/exacta)\n",
    "        p\n",
    "    "
   ]
  },
  {
   "cell_type": "markdown",
   "metadata": {
    "collapsed": true
   },
   "source": [
    "__Ejercicio 3__. Teniendo en mente la serie de Taylor para $f(x+h)$ ¿existe\n",
    "alguna forma de mejorar el cálculo de la derivada numérica? Comenta.\n",
    "\n",
    "__Tip:__ ¿Que pasa con los términos pares de la serie cuando la calculamos para $f(x-h)$?, ¿Como podemos despejar la derivada exacta de $f$ combinando ambas series? \n",
    "\n",
    "__Nota:__ Entregar en $\\LaTeX$ en el notebook de la tarea."
   ]
  },
  {
   "cell_type": "markdown",
   "metadata": {},
   "source": [
    "Desarrollando las series de Taylor de $f(x+h)$  y de $f(x-h)$ tenemos que\n",
    "\n",
    "\n",
    "$$f(x+h)=f(x)+hf'(x)+\\dfrac{h^{2}}{2}f''(x)+\\dfrac{h^{3}}{6}f'''(x)+\\mathcal{O}(h^{4})$$ \n",
    "\n",
    "\n",
    "$$f(x-h)=f(x)-hf'(x)+\\dfrac{h^{2}}{2}f''(x)-\\dfrac{h^{3}}{6}f'''(x)+\\mathcal{O}(h^{4})$$ \n",
    "\n",
    "\n",
    "sumamos las dos expresiones anteriores \n",
    "\n",
    "\n",
    "$$f(x+h)-f(x-h)=2hf'(x)+\\dfrac{h^{3}}{3}f'''(x)+\\mathcal{O}(h^{5})=\n",
    "2hf'(x)+\\mathcal{O}(h^{3})$$\n",
    "\n",
    "dividiendo entre $\\space$  $2h$ $\\space$ tenemos que\n",
    "\n",
    "$$\\frac{f(x+h)-f(x-h)}{2h}-f'(x)=\\mathcal{O}(h^{2})$$ \n",
    "\n",
    "y llegamos hasta $$f'(x)\\approx \\frac{f(x+h) -f(x-h)}{2h}$$\n"
   ]
  },
  {
   "cell_type": "markdown",
   "metadata": {},
   "source": [
    "__Ejercicio 4__. Implementa la _derivada\n",
    "simétrica_ en `Julia` como `derivada_Simetrica` y repite la\n",
    "comparativa que realizaste en el __ejercicio 2__."
   ]
  },
  {
   "cell_type": "code",
   "execution_count": 209,
   "metadata": {},
   "outputs": [
    {
     "data": {
      "text/plain": [
       "derivada_simetrica (generic function with 1 method)"
      ]
     },
     "execution_count": 209,
     "metadata": {},
     "output_type": "execute_result"
    }
   ],
   "source": [
    "function derivada_simetrica(f::Function,x,h)\n",
    "    \n",
    "    Devsim=(f(x+h)-f(x-h))/2h\n",
    "    \n",
    "    return Devsim \n",
    "    \n",
    "end"
   ]
  },
  {
   "cell_type": "code",
   "execution_count": 210,
   "metadata": {},
   "outputs": [
    {
     "data": {
      "text/plain": [
       "-0.4786268954660339"
      ]
     },
     "execution_count": 210,
     "metadata": {},
     "output_type": "execute_result"
    }
   ],
   "source": [
    "derivada_simetrica(x->cos(x),1/2,0.1)# esta se aproximara más rapido que la anterior"
   ]
  },
  {
   "cell_type": "code",
   "execution_count": 211,
   "metadata": {},
   "outputs": [
    {
     "data": {
      "text/plain": [
       "-0.479425538604203"
      ]
     },
     "execution_count": 211,
     "metadata": {},
     "output_type": "execute_result"
    }
   ],
   "source": [
    "-sin(1/2)"
   ]
  },
  {
   "cell_type": "code",
   "execution_count": 234,
   "metadata": {},
   "outputs": [
    {
     "data": {
      "text/plain": [
       "grafica (generic function with 2 methods)"
      ]
     },
     "execution_count": 234,
     "metadata": {},
     "output_type": "execute_result"
    }
   ],
   "source": [
    "using SymPy\n",
    "using PyPlot\n",
    "function grafica(f::Function,x,h,exacta) # Con esta funcion graficaremos la derivada de cos mientras h se hace pequeña\n",
    "arrayI=listah(h) #le pasamos lo que hace nuestra función listah(x)\n",
    "arrayII=[] # Definimos un arreglo vacio donde iremos guardando los valores de nuestra derivada mientras esta se aproxima a la solucion exacta.\n",
    "ErrorI=[]\n",
    "\n",
    "arrayIII=hinversa(h) # le pasamos la funcion que va invertir la h para graficarla \n",
    "\n",
    "    for i in 1:length(arrayI) # Con este ciclo for obtendremos el valor de la derivada conforme h se hace más pequeña\n",
    "         \n",
    "        push!(arrayII,derivada_simetrica(f,x,arrayI[i])) #llenamos el arreglo con los valores de la derivada, aqui utilizamos la funcion del ejercici 1\n",
    "        #push!(array3, 1/h) # aqui \n",
    "        er=abs((derivada_simetrica(f,x,arrayI[i])-exacta)/exacta)\n",
    "        push!(ErrorI,er)\n",
    "        \n",
    "        \n",
    "    \n",
    "    end\n",
    "#print(Error)\n",
    "plot(arrayI,ErrorI)\n",
    "#print(array2)\n",
    "#plot(arrayIII,arrayII)\n",
    "\n",
    "end\n",
    "        "
   ]
  },
  {
   "cell_type": "code",
   "execution_count": 235,
   "metadata": {},
   "outputs": [
    {
     "data": {
      "image/png": "[encoded data removed]",
      "text/plain": [
       "PyPlot.Figure(PyObject <matplotlib.figure.Figure object at 0x7f5a433c1f90>)"
      ]
     },
     "metadata": {},
     "output_type": "display_data"
    },
    {
     "data": {
      "text/plain": [
       "1-element Array{Any,1}:\n",
       " PyObject <matplotlib.lines.Line2D object at 0x7f5a42460ed0>"
      ]
     },
     "execution_count": 235,
     "metadata": {},
     "output_type": "execute_result"
    }
   ],
   "source": [
    "grafica(x->cos.(x),1/2,3,-0.479425538604203) #graficamos el error"
   ]
  },
  {
   "cell_type": "markdown",
   "metadata": {},
   "source": [
    "__Ejercicio 5:__ Demuestre que $\\Delta_h$ es un operador lineal y que podemos \"factorizar\" la función a la derecha del operador. Hecho esto podemos quitar de ambos lados la función $f$ para obtener lo siguiente:\n",
    "$$\\Delta_h=\\sum_{n=1}^{\\infty} \\frac{1}{n!}h^n\\left.\\frac{d^n}{d\\xi^n}\\right|_{\\substack{ \\xi=x }}$$"
   ]
  },
  {
   "cell_type": "markdown",
   "metadata": {},
   "source": [
    "Para demostrar que $\\Delta_h$ es una operador lineal debemos de ver que abra suma y saque escalares entonces:"
   ]
  },
  {
   "cell_type": "markdown",
   "metadata": {},
   "source": [
    "Demostración: \n",
    "\n",
    "$$\\Delta_{h}(\\alpha f +g) = \\sum\\nolimits_{n=0}^\\infty{n = 1}^{\\infty} \\frac{h^n}{n!} \\frac{d^n(\\alpha f +g)}{dx^n}$$\n",
    "\n",
    "Usando la linealidad del operador derivada \n",
    "\n",
    "$$ = \\sum\\nolimits_{n = 1}^{\\infty} \\frac{h^n}{n!}\\left[\\alpha \\frac{d^n f}{dx^2} +\\frac{d^n g}{dx^2}\\right]$$\n",
    "\n",
    "distribuimos y tenemos que\n",
    "\n",
    "$$= \\sum\\nolimits_{n = 1}^{\\infty} \\left[\\alpha\\frac{h^n}{n!}\\frac{d^n f}{dx^2} + \\frac{h^n}{n!} \\frac{d^n g}{dx^2}\\right]$$\n",
    "\n",
    "Usando la linealidad del operador suma \n",
    "\n",
    "$$ = \\alpha \\sum\\nolimits_{n = 1}^{\\infty} \\frac{h^n}{n!}\\frac{d^n f}{dx^2} +\\sum\\nolimits_{n = 1}^{\\infty} \\frac{h^n}{n!}\\frac{d^n g}{dx^2}$$\n",
    "\n",
    "$$= \\alpha \\Delta_{h}(f) +\\Delta_{h}(g)$$\n"
   ]
  },
  {
   "cell_type": "markdown",
   "metadata": {},
   "source": [
    "__Ejercicio 6:__ Para saber como se relaciona el _operador derivada exacta_ con el _operador diferencia finita hacia adelante_ es necesario invertir la serie $\\Delta_h=\\sum_{n=1}^{\\infty} \\frac{1}{n!}h^n\\left.\\frac{d^n}{d\\xi^n}\\right|_{\\substack{ \\xi=x }}$. Una forma directa de hacerlo es identificar la función para la cual es esa serie. Entonces, pensando en el operador derivada como un número, la serie se identifica como función evaluada en $\\left. h\\frac{d}{d_\\xi}\\right|_{\\substack{ \\xi=x }}$, ¿cual es esa función?. Si llamamos $\\phi$ a dicha función, deberiamos de tener una relación de la siguiente forma:\n",
    "$$\\Delta_h=\\phi\\left(h\\left.\\frac{d}{d\\xi}\\right|_{\\substack{ \\xi=x }}\\right)$$.\n",
    "    \n",
    "* __Nota:__ En la clase se demostró que $\\phi(x)=e^x-1$, escriba el razonamiento en $\\LaTeX$ de como se llegó a esto."
   ]
  },
  {
   "cell_type": "markdown",
   "metadata": {},
   "source": [
    "Comenzemos definiendo la serie de Taylor para la funcion exponencial \n",
    "\n",
    "$$e^x = \\sum_{n = 0}^{\\infty} \\frac{x^n}{n!}$$\n",
    "\n",
    "y entonces tenemos que \n",
    "$$\\Delta_{h} = e^{h\\frac{d}{dx}} -1$$\n",
    "\n",
    "\n",
    "\n",
    "con lo que llegamos a \n",
    "$$\\frac{1}{h}log(\\Delta_{h} +1) = \\frac{d}{dx}$$\n",
    "\n",
    "y $$log(1+x)= 0+\\left. \\frac{1}{1+x}\\right|_{x=0}x-\\frac{x^2}{2}$$\n",
    "\n",
    "por ultimo \n",
    "$$\\frac{d}{dx} =\\frac{1}{h}\\left(\\Delta_{h} -\\frac{1}{2} \\Delta_{h}^2+.....\\right)$$ \n"
   ]
  },
  {
   "cell_type": "code",
   "execution_count": null,
   "metadata": {
    "collapsed": true
   },
   "outputs": [],
   "source": []
  }
 ],
 "metadata": {
  "kernelspec": {
   "display_name": "Julia 0.6.0",
   "language": "julia",
   "name": "julia-0.6"
  },
  "language_info": {
   "file_extension": ".jl",
   "mimetype": "application/julia",
   "name": "julia",
   "version": "0.6.0"
  }
 },
 "nbformat": 4,
 "nbformat_minor": 2
}
