{
 "cells": [
  {
   "cell_type": "markdown",
   "metadata": {},
   "source": [
    "### 1. Metódo del rectangulo "
   ]
  },
  {
   "cell_type": "code",
   "execution_count": 53,
   "metadata": {},
   "outputs": [
    {
     "data": {
      "text/plain": [
       "integrate (generic function with 2 methods)"
      ]
     },
     "execution_count": 53,
     "metadata": {},
     "output_type": "execute_result"
    }
   ],
   "source": [
    "array=[]    # Definimos un arreglo donde se van guardando las aproximaciones\n",
    "N=100        # Definimos el número de iteraciones \n",
    "suma=0      # inicializamos la variable suma\n",
    "\n",
    "function integrate(f::Function,a,b) # donde x es el rago de integración y f es la función\n",
    "total=0     # inicializamos la variable que nos dara el resultado\n",
    "h=(b-a)/N # esta es la expresión que nos dara la partición de nuestro intervalo\n",
    "b=a #fijamos un valor inferior de nuestro intervalo\n",
    "        \n",
    "    for i in 1:N  #con un ciclo for vamos cambiando de intervalo, es decir vamos recorriendo la base de los rectangulos\n",
    "           a=b    # actualizamos el limite inferior de la base\n",
    "           b=h+b  # actualizamos el limite superior de la base\n",
    "           suma = (b-a)*f((a+b)/2) # Definimos nuestraexpresion de base por altura\n",
    "           total=suma+total # Actualizamos el valor de total\n",
    "        \n",
    "    \n",
    "    push!(array,total) # llenamos el arreglo con los valores de total\n",
    "        end \n",
    "    \n",
    "    return total\n",
    "\n",
    "    end"
   ]
  },
  {
   "cell_type": "code",
   "execution_count": 54,
   "metadata": {},
   "outputs": [
    {
     "data": {
      "text/plain": [
       "333.32499999999806"
      ]
     },
     "execution_count": 54,
     "metadata": {},
     "output_type": "execute_result"
    }
   ],
   "source": [
    "integrate(x->x^2,0,10)"
   ]
  },
  {
   "cell_type": "markdown",
   "metadata": {},
   "source": [
    "### 2. Metódo del trapecio"
   ]
  },
  {
   "cell_type": "code",
   "execution_count": 55,
   "metadata": {},
   "outputs": [
    {
     "data": {
      "text/plain": [
       "integratetrap (generic function with 1 method)"
      ]
     },
     "execution_count": 55,
     "metadata": {},
     "output_type": "execute_result"
    }
   ],
   "source": [
    "array2=[]    #Definimos un arreglo donde se van guardando las aproximaciones\n",
    "P=100\n",
    "sumatrap=1\n",
    "function integratetrap(f::Function,a,b) # donde a-b es el rago de integración y f es la función\n",
    "totaltrap=0     # inicializamos la variable que nos dara el resultado\n",
    "h=(b-a)/N # esta es la expresión que nos dara la particion de nuestro intervalo\n",
    "b=a #fijamos un valor inferior de nuestro intervalo\n",
    "        \n",
    "    for i in 1:N  #con un ciclo for vamos cambiando de intervalo, es decir vamos recorriendo la base de los rectangulos\n",
    "           a=b    # actualizamos el limite inferior de la base\n",
    "           b=h+b  # actualizamos el limite superior de la base\n",
    "           sumatrap = (b-a)*f((a+b)/2) # Definimos nuestra expresion de base por altura\n",
    "           totaltrap=sumatrap+totaltrap # Actualizamos el valor de total    \n",
    "        \n",
    "    push!(array2,totaltrap) # Llenamos el arreglo con los datos que nos arrojan en cada interación\n",
    "    \n",
    "    \n",
    "    end\n",
    "    \n",
    "    return totaltrap\n",
    "\n",
    "end"
   ]
  },
  {
   "cell_type": "code",
   "execution_count": 59,
   "metadata": {},
   "outputs": [
    {
     "data": {
      "text/plain": [
       "2499.8749999999804"
      ]
     },
     "execution_count": 59,
     "metadata": {},
     "output_type": "execute_result"
    }
   ],
   "source": [
    "integratetrap(x->x^3,0,10)"
   ]
  }
 ],
 "metadata": {
  "kernelspec": {
   "display_name": "Julia 0.6.0",
   "language": "julia",
   "name": "julia-0.6"
  },
  "language_info": {
   "file_extension": ".jl",
   "mimetype": "application/julia",
   "name": "julia",
   "version": "0.6.0"
  }
 },
 "nbformat": 4,
 "nbformat_minor": 2
}
