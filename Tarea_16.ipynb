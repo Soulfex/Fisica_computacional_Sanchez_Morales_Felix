{
 "cells": [
  {
   "cell_type": "markdown",
   "metadata": {},
   "source": [
    "### Tarea 16\n"
   ]
  },
  {
   "cell_type": "markdown",
   "metadata": {},
   "source": [
    "__Tarea 16:__ Demostrar que si $A=wBw^{-1}$, es decir $A$ y $B$ similares, que $f(A)=wf(B)w^{-1}$, donde $f$ es una función analítica."
   ]
  },
  {
   "cell_type": "markdown",
   "metadata": {},
   "source": [
    "_Demostración:_\n",
    "\n",
    "_Sea f una función analítica entonces tiene seríe de Taylor_\n",
    "\n",
    "$$f(A)=\\sum_{n=1}^{\\infty}C_{n}A^{n}$$, donde $$A=wBw^{-1}$$, entonces\n",
    "\n",
    "$$f(A)=\\sum_{n=1}^{\\infty}C_{n}(wBw^{-1})^{n}$$, podemos ver que\n",
    "\n",
    "$$(wBw^{-1})^{n}=(wBw^{-1})(wBw^{-1})....(wBw^{-1})$$\n",
    "\n",
    "$$=wB(w^{-1}w)B(w^{-1}w)....(ww^{-1})Bw^{-1}$$, sabemos que $w^{-1}w=I$, entonces\n",
    "$$(wBw^{-1})^{n}=wB^{n}w^{-1}$$, con esto llegamos a que \n",
    "$$f(A)=\\sum_{n=1}^{\\infty}C_{n}A^{n}=\\sum_{n=1}^{\\infty}C_{n}(wBw^{-1})^{n}=\\sum_{n=1}^{\\infty}C_{n}wB^{n}w^{-1}=w(\\sum_{n=1}^{\\infty}C_{n}B^{n})w^{-1}$$ y como $A$ y $B$ son semejantes llegamos a que \n",
    "\n",
    "$$f(A)=\\sum_{n=1}^{\\infty}wf(B)w^{-1}$$,  que es lo que se quería demostrar.\n"
   ]
  },
  {
   "cell_type": "code",
   "execution_count": null,
   "metadata": {
    "collapsed": true
   },
   "outputs": [],
   "source": []
  }
 ],
 "metadata": {
  "kernelspec": {
   "display_name": "Julia 0.6.0",
   "language": "julia",
   "name": "julia-0.6"
  },
  "language_info": {
   "file_extension": ".jl",
   "mimetype": "application/julia",
   "name": "julia",
   "version": "0.6.0"
  }
 },
 "nbformat": 4,
 "nbformat_minor": 2
}
