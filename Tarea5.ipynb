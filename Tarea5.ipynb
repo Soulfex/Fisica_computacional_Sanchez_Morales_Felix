{
 "cells": [
  {
   "cell_type": "markdown",
   "metadata": {},
   "source": [
    "# Metódo de integración de Riemann"
   ]
  },
  {
   "cell_type": "markdown",
   "metadata": {},
   "source": [
    "La integral de Riemann esta dada por una función real de variable real que es escrita como\n",
    "\n",
    "  \\begin{equation}\n",
    "\\int \\limits_{a}^{b} f(x) dx\n",
    "\\end{equation}\n"
   ]
  },
  {
   "cell_type": "markdown",
   "metadata": {},
   "source": [
    "Su principal propósito es aproximar el área bajo la curva de ciertas fucinones y para ello se hace uso de particiones de intervalos"
   ]
  },
  {
   "cell_type": "markdown",
   "metadata": {},
   "source": [
    "Una partición de  $\\text{[a,b]}$ es un subconjunto finito $P=(x_0=a<x_1<x_2...<x_{n-1}<x_n=b)$, de dicha partición se elige un punto $t_k\\in[x_{k-1},x_{k}]$ donde  el intervalo $[x_{k-1},x_{k}]$ es la base de un rectángulo y $\\space$ $f(x_{k})$ es la altura."
   ]
  },
  {
   "cell_type": "markdown",
   "metadata": {},
   "source": [
    "![Area](https://upload.wikimedia.org/wikipedia/commons/thumb/a/af/Riemann_Integration_4.png/400px-Riemann_Integration_4.png)"
   ]
  },
  {
   "cell_type": "markdown",
   "metadata": {},
   "source": [
    "De esta forma llegamos a la definición de  $\\textbf{suma de Riemann}$ \n",
    "\\begin{equation*}\n",
    "\\sum\\nolimits_{k=1}^nf(x_{k})(x_{k-1},x_{k})\n",
    "\\end{equation*}"
   ]
  },
  {
   "cell_type": "markdown",
   "metadata": {},
   "source": [
    "Dicha suma es denominada como $\\sigma$= $\\ { (f,P)}$\n",
    "\n",
    "Ahora si las particiones de nuestro intervalo son suficientemente pequeñas el número $\\sigma$= $\\ { (f,P)}$ es una buena aproximación de el área bajo la curva."
   ]
  },
  {
   "cell_type": "markdown",
   "metadata": {},
   "source": [
    "Definimos  \n",
    "$$M_{k} =Sup\\space f(x_{k-1},x_{k})$$\n",
    "$$m_{k} =inf\\space f(x_{k-1},x_{k})$$\n",
    "y $$S(f,P)=\\sum\\limits_{k=1}^nM_k(x_{k-1},x_{k})$$ $$I(f,P)=\\sum\\limits_{k=1}^nm_k(x_{k-1},x_{k})$$ \n",
    "\n",
    "como $\\textbf{suma superior}$ y $\\textbf{suma inferirior}$ respectivamente\n",
    "\n",
    "\"Una función $\\space f$ acotada en $[a,b]$ es $\\textbf{integrable}$ en $[a,b]$ si\": \n",
    "$\\space$\n",
    "\n",
    "\n",
    "$$M_{k} =Sup\\space f(x_{k-1},x_{k})= m_{k} =inf\\space f(x_{k-1},x_{k})$$\n",
    "$\\space$\n",
    "\n",
    "y a dicho número se le denomina la inategral de $f$ en $[a,b]$\n",
    "\n",
    "Si $f$ es integrable tenemos que \n",
    "$$S(f,P)\\leq\\int \\limits_{a}^{b} f(x) dx\\leq\\ I(f,P)$$\n"
   ]
  },
  {
   "cell_type": "markdown",
   "metadata": {},
   "source": [
    "# Regla del trapecio"
   ]
  },
  {
   "cell_type": "markdown",
   "metadata": {},
   "source": [
    "Otro metódo de aproximación para integración es la regla del trapecio, la cual se basa en trazar una linea recta entre los puntos $\\space$ $(a, f(a))$ $\\space$ y$\\space$  $(b, f(b))$ \n",
    "![Trapecio](https://upload.wikimedia.org/wikipedia/commons/thumb/d/dd/Trapezoidal_rule_illustration.png/220px-Trapezoidal_rule_illustration.png)\n",
    "\n",
    "\n",
    "De esta forma el valor de la integral será el area bajo el trapecio que se forma al trazar dicha recta\n"
   ]
  },
  {
   "cell_type": "markdown",
   "metadata": {},
   "source": [
    "Ahora tenemos que  \\begin{equation}\n",
    "\\int \\limits_{a}^{b} f(x) dx \t\\approx \\sum\\limits_{i=1}^nf(x'_i)\\Delta x\n",
    "\\end{equation}\n",
    "\n",
    "donde $x_i\\in (x_{i-1},x_{i})$  y de esta forma si  $x'_{i}= x_{i-1}$ que es el punto final izquierdo del subintervalo\n",
    "\n",
    "$$1) \\int \\limits_{a}^{b} f(x) dx \\approx L_{n}\\sum\\limits_{i=1}^nf(x_{i-1})\\Delta x$$\n",
    "\n",
    "y si se elige que $x'_{i}=x_{i}$ entonces tenemos que\n",
    "\n",
    "$$2) \\int \\limits_{a}^{b} f(x) dx \\approx L_{n}\\sum\\limits_{i=1}^nf(x_{i})\\Delta x$$\n",
    "\n",
    "La regla del trapecio resulta de promediar las aproximaciones de las eciaciones 1 y 2\n",
    " \n",
    " \\begin{equation}\n",
    "\\int \\limits_{a}^{b} f(x) dx\\approx \\dfrac{1}{2} [\\sum\\limits_{i=1}^nf(x_{i-1})\\Delta x + \\sum\\limits_{i=1}^nf(x_{i})\\Delta x ] = \\dfrac{\\Delta x}{2}[\\sum\\limits_{i=1}^n(f(x_{i-1})+f(x_{i}))]= \\dfrac{\\Delta x}{2} [(f(x_{0})+f(x_{1}))+(f(x_{1})+f(x_{2}))+...+(f(x_{n-1})+f(x_{n}))] = \\dfrac{\\Delta x}{2} [f(x_{0})+2f(x_{1})+2f(x_{2})+...+2f(x_{n-1})+f(x_{n})]\n",
    "\\end{equation}\n",
    "\n",
    "\n"
   ]
  },
  {
   "cell_type": "markdown",
   "metadata": {},
   "source": [
    "# Regla de Simpson de orden 2"
   ]
  },
  {
   "cell_type": "markdown",
   "metadata": {
    "collapsed": true
   },
   "source": [
    "La regla de Simpson utiliza polinomios de segundo grado para aproximar la solución de la integral en lugar de segmentos de recta como en el caso anterior.\n",
    "\n",
    "Para la regla de Simpson se divide $[a,b]$ en sub intervalos como en los caso anteriores donde $x_{0} =a$, $\\space$ $m=\\dfrac{a+b}{2}$ $\\space$ y $\\space$ $x_{n}=b$ \n",
    "\n",
    "Para el metódo se utiliza un polinomio  interpolador de orden dos $P_{2}x$  que integra a $f$ entre los puntos ya mencionados y expresión a través de la interpolación polinómica de Lagrange es: \n",
    "\n",
    "$$P_{2}x=f(a)\\dfrac{(x-m)(x-b}{(a-m)(a-b)}+f(m)\\dfrac{(x-a)(x-b)}{(m-a)(m-b)}+f(b)\\dfrac{(x-a)(x-m)}{(b-a)(b-m)}$$\n",
    "\n",
    "entonces  $I=\\int \\limits_{a}^{b} f(x) dx=\\int \\limits_{a}^{b} P_{2}(x)+E(x)$ donde $E(x)$ es el error \n",
    "\n",
    "de esta forma tenemos que \n",
    "$\\int \\limits_{a}^{b} P_{2}(x)= \\dfrac{b-a}{6}[f(a)+4f(m)+f(b)]$ y\n",
    "\n",
    "$$\\int \\limits_{a}^{b} f(x) dx \\approx\\dfrac{b-a}{6}[f(a)+4f(m)+f(b)]$$\n",
    "\n"
   ]
  },
  {
   "cell_type": "markdown",
   "metadata": {},
   "source": [
    "\n",
    "\n"
   ]
  },
  {
   "cell_type": "markdown",
   "metadata": {
    "collapsed": true
   },
   "source": [
    "# Fuentes de consulta\n",
    "\n",
    "°https://es.wikipedia.org/wiki/Integraci%C3%B3n_de_Riemann\n",
    "\n",
    "°https://www.uam.es/personal_pdi/ciencias/fchamizo/asignaturas/calc1inf1011/apjperez/calculo_cap08.pdf\n",
    "\n",
    "°https://es.wikipedia.org/wiki/Regla_del_trapecio\n",
    "\n",
    "°https://es.wikipedia.org/wiki/Regla_de_Simpson"
   ]
  },
  {
   "cell_type": "code",
   "execution_count": null,
   "metadata": {
    "collapsed": true
   },
   "outputs": [],
   "source": []
  }
 ],
 "metadata": {
  "kernelspec": {
   "display_name": "Julia 0.6.0",
   "language": "julia",
   "name": "julia-0.6"
  },
  "language_info": {
   "file_extension": ".jl",
   "mimetype": "application/julia",
   "name": "julia",
   "version": "0.6.0"
  }
 },
 "nbformat": 4,
 "nbformat_minor": 2
}
