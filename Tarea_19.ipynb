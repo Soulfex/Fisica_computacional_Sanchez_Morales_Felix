{
 "cells": [
  {
   "cell_type": "markdown",
   "metadata": {},
   "source": [
    "## Tarea 19"
   ]
  },
  {
   "cell_type": "markdown",
   "metadata": {},
   "source": [
    "__Problema de Dirichlet:__ Un problema de Dirichlet consiste en encontrar la solución de una ecuación diferencial parcial donde las condiciones a la frontera estan definidas por el valor del campo.\n",
    "\n",
    "__Ejercicio1__: Escriba la forma del operador laplaciano utilizando diferencias finitas simétricas. Es decir, discretice: $\\nabla^2=\\frac{\\partial^2 f}{\\partial x^2}+\\frac{\\partial^2 f}{\\partial y^2}+\\frac{\\partial^2 f}{\\partial z^2}$"
   ]
  },
  {
   "cell_type": "markdown",
   "metadata": {},
   "source": [
    "Tenemos que la diferencia finitas central esta dada por $$\\delta_{h}=\\frac{f(x+h)-f(x-h)}{2h}$$, que es nuestra derivada simetrica donde $$\\Delta_{h}f=f(x+h)$$ y $$\\Delta_{-h}f=f(x-h)$$ con esto tenemos que \n",
    "$$\\frac{d}{dx}=\\frac{\\Delta_{h}-\\Delta_{-h}}{2h}$$\n",
    "\n",
    "Ahora tenemos que  $$\\frac{d}{dx}\\frac{d}{dx}=\\frac{\\Delta^{2}_{h}+2\\Delta_{h}\\Delta_{-h}+\\Delta^{2}_{-h}}{4h^{2}}$$, ahora podemos aplicar esto para obtener el laplaciano con lo que tenemos que\n",
    "$$\\frac{d^2f}{dx^{2}}=\\frac{f(x+h)^{2}+2f(x+h)f(x-h)+f(x-h)}{h^{2}}$$, entonces la dicretizacion es:\n",
    "$$\\nabla^2(x,y,z)=\\frac{f(x+h,y,z)+2f(x,y,z)+f(x-h,y,z)}{h^{2}}+\\frac{f(x,y+h,z)+2f(x,y,z)+f(x,y-h,z)}{h^{2}}+\\frac{f(x,y,z+h)+2f(x,y,z)+f(x,y,z-h)}{h^{2}}$$"
   ]
  },
  {
   "cell_type": "markdown",
   "metadata": {},
   "source": [
    "__Ejercicio 2 (condiciones a la frontera de Dirichlet)__. Discretice la ecuación \n",
    "$$ \\frac{d^2f}{dx^2}, $$\n",
    "en el intervalo $[0,1]$, y aplicando el operador laplaciano discretizado obtenga el sistema de ecuaciones algebraicas lineales correspondientes al problema de _Dirichlet_:\n",
    "$f(0) = a$ y $f(1) = b$ dividiendo el intervalo $[0,1]$ en $5$ puntos separados por $h$."
   ]
  },
  {
   "cell_type": "markdown",
   "metadata": {},
   "source": [
    " Tenemos que $$\\frac{df}{dx^{2}}=\\frac{f(x+h)^{2}+2f(x)+f(x-h)^{2}}{h^{2}}=0$$, como $h^{2}\\neq0$ tenemos que $$f(x+h)^{2}+2f(x)+f(x-h)^{2}=0$$  ahora si partimos el intervalo en 5 puntos separados tenemos que $$x_{1}=0,x_{2}=\\frac{1}{5}, x_{2}=\\frac{2}{5}, x_{3}=\\frac{3}{5}, x_{4}=\\frac{4}{5}, x_{5}= 1$$\n",
    "\n",
    "Evaluando en los puntos del centro tenemos que \n",
    "$$f(x_{1})+2f(x_{2})+f(x_{3})=0$$\n",
    "$$f(x_{2})+2f(x_{3})+f(x_{4})=0$$\n",
    "$$f(x_{3})+2f(x_{4})+f(x_{5})=0$$\n",
    "ahora teniendo en cuenta de que $f(0)=a$ y $f(1)=b$, llegamos a que:\n",
    "$$\\space$$\n",
    "$$a+2f(x_{2})+f(x_{3})=0$$\n",
    "$$f(x_{2})+2f(x_{3})+f(x_{4})=0$$\n",
    "$$f(x_{3})+2f(x_{4})+b=0$$\n",
    "$$\\space$$\n",
    "$$2f(x_{2})+f(x_{3})=-a$$\n",
    "$$f(x_{2})+2f(x_{3})+f(x_{4})=0$$\n",
    "$$f(x_{3})+2f(x_{4})=-b$$\n",
    "\n"
   ]
  },
  {
   "cell_type": "markdown",
   "metadata": {},
   "source": [
    "__Ejercicio 3 (condiciones a la frontera de Neumann)__. Hacer lo mismo para condiciones de _Neumann_, es decir, fijando en los extremos el valor de la primera derivada de la función. Para esto utilice la derivada _hacia adeltante_ en las orillas, es decir, si $f'(0)=a$ y $f'(1)=b$, entonces $(f_1-f_0)/h=a$, etc. No olvide que debe resultar un sistema de ecuación cuya dimensión sea el número de incognitas.\n"
   ]
  },
  {
   "cell_type": "markdown",
   "metadata": {},
   "source": [
    "Procedemos del sistema :\n",
    "$$f(x_{1})+2f(x_{2})+f(x_{3})=0$$\n",
    "$$f(x_{2})+2f(x_{3})+f(x_{4})=0$$\n",
    "$$f(x_{3})+2f(x_{4})+f(x_{5})=0$$\n",
    "\n",
    "donde $f'(0)=a$ y $f'(1)=b$, entonces $$a=\\frac{f(x_2)-f(x_1)}{\\frac{1}{5}}=f'(x_{1})$$, donde $h=\\frac{1}{5}$, de esta forma tenemos que $f(x_{1})=f(x_2)-\\frac{a}{5}$ \n",
    " de la misma forma  tenemos que $$b=\\frac{f(x_5)-f(x_4)}{\\frac{1}{5}}=f'(x_{5})$$ y llegamos a que:\n",
    " $f(x_{5})=-f(x_4)+\\frac{a}{5}$ \n",
    " \n",
    "sustituyendo en el sistema llegamos a que:\n",
    "$$f(x_2)-\\frac{a}{5}+2f(x_{2})+f(x_{3})=0$$\n",
    "$$f(x_{2})+2f(x_{3})+f(x_{4})=0$$\n",
    "$$f(x_{3})+2f(x_{4})-f(x_4)+\\frac{a}{5}=0$$\n",
    "$$\\space$$\n",
    "$$3f(x_{2})+f(x_{3})=\\frac{a}{5}$$\n",
    "$$f(x_{2})+2f(x_{3})+f(x_{4})=0$$\n",
    "$$f(x_{3})+f(x_{4})=-\\frac{a}{5}$$\n"
   ]
  },
  {
   "cell_type": "markdown",
   "metadata": {},
   "source": [
    "__Ejercicio 4 (indexación)__. `Julia` es más eficiente\n",
    "si se utiliza un único índice para acceder a los elementos\n",
    "de una matriz, además que puede simplificar algunos problemas. Escribe una función $\\phi$ que traduzca un par de\n",
    "índices $i,j$ a un único índice $k$, es decir:\n",
    "$$\\phi: (i,j) \\mapsto k.$$\n",
    "También encuentren $\\phi^{-1}$. Note que $\\phi$ deberá depender de las dimensiones del arreglo, por lo menos de una de ellas."
   ]
  },
  {
   "cell_type": "code",
   "execution_count": 32,
   "metadata": {},
   "outputs": [
    {
     "data": {
      "text/plain": [
       "indiceun (generic function with 1 method)"
      ]
     },
     "execution_count": 32,
     "metadata": {},
     "output_type": "execute_result"
    }
   ],
   "source": [
    "function indiceun(i,j,numerocol)\n",
    "    return  (i-1)*numerocol+j\n",
    "end"
   ]
  },
  {
   "cell_type": "code",
   "execution_count": 33,
   "metadata": {},
   "outputs": [
    {
     "name": "stdout",
     "output_type": "stream",
     "text": [
      "i = 1 j = 1el indice es1\n",
      "i = 1 j = 2el indice es2\n",
      "i = 1 j = 3el indice es3\n",
      "i = 2 j = 1el indice es4\n",
      "i = 2 j = 2el indice es5\n",
      "i = 2 j = 3el indice es6\n",
      "i = 3 j = 1el indice es7\n",
      "i = 3 j = 2el indice es8\n",
      "i = 3 j = 3el indice es9\n"
     ]
    }
   ],
   "source": [
    "A=[1 0 0;0 1 0;0 0 1]\n",
    "\n",
    "n= size(A,1)\n",
    "m= size(A,2)\n",
    "\n",
    "for i in 1:n\n",
    "    for j in 1:m\n",
    "    println(\"i = \",i ,\" j = \", j, \"el indice es\",indiceun(i,j,m))    \n",
    "    end\n",
    "end"
   ]
  },
  {
   "cell_type": "code",
   "execution_count": 45,
   "metadata": {},
   "outputs": [
    {
     "data": {
      "text/plain": [
       "indice (generic function with 1 method)"
      ]
     },
     "execution_count": 45,
     "metadata": {},
     "output_type": "execute_result"
    }
   ],
   "source": []
  },
  {
   "cell_type": "code",
   "execution_count": null,
   "metadata": {
    "collapsed": true
   },
   "outputs": [],
   "source": []
  }
 ],
 "metadata": {
  "kernelspec": {
   "display_name": "Julia 0.6.0",
   "language": "julia",
   "name": "julia-0.6"
  },
  "language_info": {
   "file_extension": ".jl",
   "mimetype": "application/julia",
   "name": "julia",
   "version": "0.6.0"
  }
 },
 "nbformat": 4,
 "nbformat_minor": 2
}
